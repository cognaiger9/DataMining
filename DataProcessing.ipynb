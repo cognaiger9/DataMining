{
 "cells": [
  {
   "cell_type": "code",
   "execution_count": 4,
   "id": "c7cde11d-7da0-481c-a309-34d7500a1457",
   "metadata": {},
   "outputs": [],
   "source": [
    "import pandas as pd\n",
    "import numpy as np"
   ]
  },
  {
   "cell_type": "code",
   "execution_count": 5,
   "id": "9146365b-229b-4814-9cf1-96f2c564f185",
   "metadata": {},
   "outputs": [],
   "source": [
    "data = pd.read_csv(\"telecom_train.csv\")"
   ]
  },
  {
   "cell_type": "code",
   "execution_count": 6,
   "id": "d86c9c5d-3b97-4933-98d1-8891fc369baa",
   "metadata": {},
   "outputs": [
    {
     "data": {
      "text/html": [
       "<div>\n",
       "<style scoped>\n",
       "    .dataframe tbody tr th:only-of-type {\n",
       "        vertical-align: middle;\n",
       "    }\n",
       "\n",
       "    .dataframe tbody tr th {\n",
       "        vertical-align: top;\n",
       "    }\n",
       "\n",
       "    .dataframe thead th {\n",
       "        text-align: right;\n",
       "    }\n",
       "</style>\n",
       "<table border=\"1\" class=\"dataframe\">\n",
       "  <thead>\n",
       "    <tr style=\"text-align: right;\">\n",
       "      <th></th>\n",
       "      <th>Customer ID</th>\n",
       "      <th>Gender</th>\n",
       "      <th>Age</th>\n",
       "      <th>Married</th>\n",
       "      <th>Number of Dependents</th>\n",
       "      <th>City</th>\n",
       "      <th>Zip Code</th>\n",
       "      <th>Latitude</th>\n",
       "      <th>Longitude</th>\n",
       "      <th>Number of Referrals</th>\n",
       "      <th>...</th>\n",
       "      <th>Payment Method</th>\n",
       "      <th>Monthly Charge</th>\n",
       "      <th>Total Charges</th>\n",
       "      <th>Total Refunds</th>\n",
       "      <th>Total Extra Data Charges</th>\n",
       "      <th>Total Long Distance Charges</th>\n",
       "      <th>Total Revenue</th>\n",
       "      <th>Customer Status</th>\n",
       "      <th>Churn Category</th>\n",
       "      <th>Churn Reason</th>\n",
       "    </tr>\n",
       "  </thead>\n",
       "  <tbody>\n",
       "    <tr>\n",
       "      <th>0</th>\n",
       "      <td>0002-ORFBO</td>\n",
       "      <td>Female</td>\n",
       "      <td>37</td>\n",
       "      <td>Yes</td>\n",
       "      <td>0</td>\n",
       "      <td>Frazier Park</td>\n",
       "      <td>93225</td>\n",
       "      <td>34.827662</td>\n",
       "      <td>-118.999073</td>\n",
       "      <td>2</td>\n",
       "      <td>...</td>\n",
       "      <td>Credit Card</td>\n",
       "      <td>65.6</td>\n",
       "      <td>593.30</td>\n",
       "      <td>0.00</td>\n",
       "      <td>0</td>\n",
       "      <td>381.51</td>\n",
       "      <td>974.81</td>\n",
       "      <td>Stayed</td>\n",
       "      <td>NaN</td>\n",
       "      <td>NaN</td>\n",
       "    </tr>\n",
       "    <tr>\n",
       "      <th>1</th>\n",
       "      <td>0003-MKNFE</td>\n",
       "      <td>Male</td>\n",
       "      <td>46</td>\n",
       "      <td>No</td>\n",
       "      <td>0</td>\n",
       "      <td>Glendale</td>\n",
       "      <td>91206</td>\n",
       "      <td>34.162515</td>\n",
       "      <td>-118.203869</td>\n",
       "      <td>0</td>\n",
       "      <td>...</td>\n",
       "      <td>Credit Card</td>\n",
       "      <td>-4.0</td>\n",
       "      <td>542.40</td>\n",
       "      <td>38.33</td>\n",
       "      <td>10</td>\n",
       "      <td>96.21</td>\n",
       "      <td>610.28</td>\n",
       "      <td>Stayed</td>\n",
       "      <td>NaN</td>\n",
       "      <td>NaN</td>\n",
       "    </tr>\n",
       "    <tr>\n",
       "      <th>2</th>\n",
       "      <td>0004-TLHLJ</td>\n",
       "      <td>Male</td>\n",
       "      <td>50</td>\n",
       "      <td>No</td>\n",
       "      <td>0</td>\n",
       "      <td>Costa Mesa</td>\n",
       "      <td>92627</td>\n",
       "      <td>33.645672</td>\n",
       "      <td>-117.922613</td>\n",
       "      <td>0</td>\n",
       "      <td>...</td>\n",
       "      <td>Bank Withdrawal</td>\n",
       "      <td>73.9</td>\n",
       "      <td>280.85</td>\n",
       "      <td>0.00</td>\n",
       "      <td>0</td>\n",
       "      <td>134.60</td>\n",
       "      <td>415.45</td>\n",
       "      <td>Churned</td>\n",
       "      <td>Competitor</td>\n",
       "      <td>Competitor had better devices</td>\n",
       "    </tr>\n",
       "    <tr>\n",
       "      <th>3</th>\n",
       "      <td>0011-IGKFF</td>\n",
       "      <td>Male</td>\n",
       "      <td>78</td>\n",
       "      <td>Yes</td>\n",
       "      <td>0</td>\n",
       "      <td>Martinez</td>\n",
       "      <td>94553</td>\n",
       "      <td>38.014457</td>\n",
       "      <td>-122.115432</td>\n",
       "      <td>1</td>\n",
       "      <td>...</td>\n",
       "      <td>Bank Withdrawal</td>\n",
       "      <td>98.0</td>\n",
       "      <td>1237.85</td>\n",
       "      <td>0.00</td>\n",
       "      <td>0</td>\n",
       "      <td>361.66</td>\n",
       "      <td>1599.51</td>\n",
       "      <td>Churned</td>\n",
       "      <td>Dissatisfaction</td>\n",
       "      <td>Product dissatisfaction</td>\n",
       "    </tr>\n",
       "    <tr>\n",
       "      <th>4</th>\n",
       "      <td>0013-EXCHZ</td>\n",
       "      <td>Female</td>\n",
       "      <td>75</td>\n",
       "      <td>Yes</td>\n",
       "      <td>0</td>\n",
       "      <td>Camarillo</td>\n",
       "      <td>93010</td>\n",
       "      <td>34.227846</td>\n",
       "      <td>-119.079903</td>\n",
       "      <td>3</td>\n",
       "      <td>...</td>\n",
       "      <td>Credit Card</td>\n",
       "      <td>83.9</td>\n",
       "      <td>267.40</td>\n",
       "      <td>0.00</td>\n",
       "      <td>0</td>\n",
       "      <td>22.14</td>\n",
       "      <td>289.54</td>\n",
       "      <td>Churned</td>\n",
       "      <td>Dissatisfaction</td>\n",
       "      <td>Network reliability</td>\n",
       "    </tr>\n",
       "  </tbody>\n",
       "</table>\n",
       "<p>5 rows × 38 columns</p>\n",
       "</div>"
      ],
      "text/plain": [
       "  Customer ID  Gender  Age Married  Number of Dependents          City  \\\n",
       "0  0002-ORFBO  Female   37     Yes                     0  Frazier Park   \n",
       "1  0003-MKNFE    Male   46      No                     0      Glendale   \n",
       "2  0004-TLHLJ    Male   50      No                     0    Costa Mesa   \n",
       "3  0011-IGKFF    Male   78     Yes                     0      Martinez   \n",
       "4  0013-EXCHZ  Female   75     Yes                     0     Camarillo   \n",
       "\n",
       "   Zip Code   Latitude   Longitude  Number of Referrals  ...   Payment Method  \\\n",
       "0     93225  34.827662 -118.999073                    2  ...      Credit Card   \n",
       "1     91206  34.162515 -118.203869                    0  ...      Credit Card   \n",
       "2     92627  33.645672 -117.922613                    0  ...  Bank Withdrawal   \n",
       "3     94553  38.014457 -122.115432                    1  ...  Bank Withdrawal   \n",
       "4     93010  34.227846 -119.079903                    3  ...      Credit Card   \n",
       "\n",
       "  Monthly Charge Total Charges  Total Refunds Total Extra Data Charges  \\\n",
       "0           65.6        593.30           0.00                        0   \n",
       "1           -4.0        542.40          38.33                       10   \n",
       "2           73.9        280.85           0.00                        0   \n",
       "3           98.0       1237.85           0.00                        0   \n",
       "4           83.9        267.40           0.00                        0   \n",
       "\n",
       "  Total Long Distance Charges Total Revenue  Customer Status   Churn Category  \\\n",
       "0                      381.51        974.81           Stayed              NaN   \n",
       "1                       96.21        610.28           Stayed              NaN   \n",
       "2                      134.60        415.45          Churned       Competitor   \n",
       "3                      361.66       1599.51          Churned  Dissatisfaction   \n",
       "4                       22.14        289.54          Churned  Dissatisfaction   \n",
       "\n",
       "                    Churn Reason  \n",
       "0                            NaN  \n",
       "1                            NaN  \n",
       "2  Competitor had better devices  \n",
       "3        Product dissatisfaction  \n",
       "4            Network reliability  \n",
       "\n",
       "[5 rows x 38 columns]"
      ]
     },
     "execution_count": 6,
     "metadata": {},
     "output_type": "execute_result"
    }
   ],
   "source": [
    "data.head()"
   ]
  },
  {
   "cell_type": "code",
   "execution_count": 7,
   "id": "ad749cce-e3a6-417d-90cf-823b52a8c0f6",
   "metadata": {},
   "outputs": [
    {
     "name": "stdout",
     "output_type": "stream",
     "text": [
      "<class 'pandas.core.frame.DataFrame'>\n",
      "RangeIndex: 5500 entries, 0 to 5499\n",
      "Data columns (total 38 columns):\n",
      " #   Column                             Non-Null Count  Dtype  \n",
      "---  ------                             --------------  -----  \n",
      " 0   Customer ID                        5500 non-null   object \n",
      " 1   Gender                             5500 non-null   object \n",
      " 2   Age                                5500 non-null   int64  \n",
      " 3   Married                            5500 non-null   object \n",
      " 4   Number of Dependents               5500 non-null   int64  \n",
      " 5   City                               5500 non-null   object \n",
      " 6   Zip Code                           5500 non-null   int64  \n",
      " 7   Latitude                           5500 non-null   float64\n",
      " 8   Longitude                          5500 non-null   float64\n",
      " 9   Number of Referrals                5500 non-null   int64  \n",
      " 10  Tenure in Months                   5500 non-null   int64  \n",
      " 11  Offer                              2472 non-null   object \n",
      " 12  Phone Service                      5500 non-null   object \n",
      " 13  Avg Monthly Long Distance Charges  4974 non-null   float64\n",
      " 14  Multiple Lines                     4974 non-null   object \n",
      " 15  Internet Service                   5500 non-null   object \n",
      " 16  Internet Type                      4306 non-null   object \n",
      " 17  Avg Monthly GB Download            4306 non-null   float64\n",
      " 18  Online Security                    4306 non-null   object \n",
      " 19  Online Backup                      4306 non-null   object \n",
      " 20  Device Protection Plan             4306 non-null   object \n",
      " 21  Premium Tech Support               4306 non-null   object \n",
      " 22  Streaming TV                       4306 non-null   object \n",
      " 23  Streaming Movies                   4306 non-null   object \n",
      " 24  Streaming Music                    4306 non-null   object \n",
      " 25  Unlimited Data                     4306 non-null   object \n",
      " 26  Contract                           5500 non-null   object \n",
      " 27  Paperless Billing                  5500 non-null   object \n",
      " 28  Payment Method                     5500 non-null   object \n",
      " 29  Monthly Charge                     5500 non-null   float64\n",
      " 30  Total Charges                      5500 non-null   float64\n",
      " 31  Total Refunds                      5500 non-null   float64\n",
      " 32  Total Extra Data Charges           5500 non-null   int64  \n",
      " 33  Total Long Distance Charges        5500 non-null   float64\n",
      " 34  Total Revenue                      5500 non-null   float64\n",
      " 35  Customer Status                    5500 non-null   object \n",
      " 36  Churn Category                     1482 non-null   object \n",
      " 37  Churn Reason                       1482 non-null   object \n",
      "dtypes: float64(9), int64(6), object(23)\n",
      "memory usage: 1.6+ MB\n"
     ]
    }
   ],
   "source": [
    "data.info()"
   ]
  },
  {
   "cell_type": "code",
   "execution_count": 8,
   "id": "e06fa610-7cf4-4572-a66a-bd76625b689b",
   "metadata": {},
   "outputs": [
    {
     "data": {
      "text/plain": [
       "Churn Reason                         4018\n",
       "Churn Category                       4018\n",
       "Offer                                3028\n",
       "Online Backup                        1194\n",
       "Avg Monthly GB Download              1194\n",
       "Online Security                      1194\n",
       "Streaming Movies                     1194\n",
       "Streaming TV                         1194\n",
       "Unlimited Data                       1194\n",
       "Streaming Music                      1194\n",
       "Internet Type                        1194\n",
       "Device Protection Plan               1194\n",
       "Premium Tech Support                 1194\n",
       "Avg Monthly Long Distance Charges     526\n",
       "Multiple Lines                        526\n",
       "Number of Dependents                    0\n",
       "City                                    0\n",
       "Age                                     0\n",
       "Gender                                  0\n",
       "Customer ID                             0\n",
       "Married                                 0\n",
       "Tenure in Months                        0\n",
       "Internet Service                        0\n",
       "Longitude                               0\n",
       "Zip Code                                0\n",
       "Latitude                                0\n",
       "Number of Referrals                     0\n",
       "Phone Service                           0\n",
       "Contract                                0\n",
       "Paperless Billing                       0\n",
       "Monthly Charge                          0\n",
       "Payment Method                          0\n",
       "Total Charges                           0\n",
       "Total Refunds                           0\n",
       "Total Long Distance Charges             0\n",
       "Total Extra Data Charges                0\n",
       "Customer Status                         0\n",
       "Total Revenue                           0\n",
       "dtype: int64"
      ]
     },
     "execution_count": 8,
     "metadata": {},
     "output_type": "execute_result"
    }
   ],
   "source": [
    "data.isnull().sum().sort_values(ascending = False)"
   ]
  },
  {
   "cell_type": "markdown",
   "id": "fae37ed9-75a5-4d07-825e-bc8133fe5ee4",
   "metadata": {},
   "source": [
    "# Handing Missing Values"
   ]
  },
  {
   "cell_type": "code",
   "execution_count": 9,
   "id": "f93965c1-9abd-40da-bf80-a2fa762b414b",
   "metadata": {},
   "outputs": [],
   "source": [
    "# process avg monthly long distance charges\n",
    "data['Avg Monthly Long Distance Charges'] = data['Avg Monthly Long Distance Charges'].fillna(data['Avg Monthly Long Distance Charges'].mean())"
   ]
  },
  {
   "cell_type": "code",
   "execution_count": 10,
   "id": "652293d8-359a-452e-a107-5ab8b7b0ca10",
   "metadata": {},
   "outputs": [
    {
     "data": {
      "text/plain": [
       "Multiple Lines\n",
       "No     3191\n",
       "Yes    2309\n",
       "Name: count, dtype: int64"
      ]
     },
     "execution_count": 10,
     "metadata": {},
     "output_type": "execute_result"
    }
   ],
   "source": [
    "# process Muntiple Line\n",
    "# data['Multiple Lines'].value_counts()\n",
    "data['Multiple Lines'] = data['Multiple Lines'].fillna(\"No\")\n",
    "data['Multiple Lines'].value_counts()"
   ]
  },
  {
   "cell_type": "code",
   "execution_count": 11,
   "id": "50fdae6e-5fe2-4e46-b468-f00304cb0efa",
   "metadata": {},
   "outputs": [
    {
     "name": "stderr",
     "output_type": "stream",
     "text": [
      "/tmp/ipykernel_21921/3703416646.py:3: FutureWarning: A value is trying to be set on a copy of a DataFrame or Series through chained assignment using an inplace method.\n",
      "The behavior will change in pandas 3.0. This inplace method will never work because the intermediate object on which we are setting values always behaves as a copy.\n",
      "\n",
      "For example, when doing 'df[col].method(value, inplace=True)', try using 'df.method({col: value}, inplace=True)' or df[col] = df[col].method(value) instead, to perform the operation inplace on the original object.\n",
      "\n",
      "\n",
      "  data['Premium Tech Support'].fillna(value = \"No\", inplace = True)\n"
     ]
    },
    {
     "data": {
      "text/plain": [
       "Premium Tech Support\n",
       "No     3912\n",
       "Yes    1588\n",
       "Name: count, dtype: int64"
      ]
     },
     "execution_count": 11,
     "metadata": {},
     "output_type": "execute_result"
    }
   ],
   "source": [
    "# process Premium Tech Support \n",
    "#data['Premium Tech Support'].value_counts()\n",
    "data['Premium Tech Support'].fillna(value = \"No\", inplace = True)\n",
    "data['Premium Tech Support'].value_counts()"
   ]
  },
  {
   "cell_type": "code",
   "execution_count": 12,
   "id": "a3f64fda-f87f-4e1e-a45e-964083076446",
   "metadata": {},
   "outputs": [
    {
     "data": {
      "text/plain": [
       "Device Protection Plan\n",
       "No     3614\n",
       "Yes    1886\n",
       "Name: count, dtype: int64"
      ]
     },
     "execution_count": 12,
     "metadata": {},
     "output_type": "execute_result"
    }
   ],
   "source": [
    "# Process Device Protection Plan \n",
    "#data['Device Protection Plan'].value_counts()\n",
    "data['Device Protection Plan'] = data['Device Protection Plan'].fillna(\"No\")\n",
    "data['Device Protection Plan'].value_counts()"
   ]
  },
  {
   "cell_type": "code",
   "execution_count": 13,
   "id": "6c4551c4-7fbc-4922-be90-e2ad0852bc16",
   "metadata": {},
   "outputs": [
    {
     "data": {
      "text/plain": [
       "Internet Type\n",
       "Fiber Optic    2386\n",
       "DSL            1276\n",
       "None           1194\n",
       "Cable           644\n",
       "Name: count, dtype: int64"
      ]
     },
     "execution_count": 13,
     "metadata": {},
     "output_type": "execute_result"
    }
   ],
   "source": [
    "# Process Internet Type\n",
    "#data['Internet Type'].value_counts()\n",
    "data['Internet Type'] = data['Internet Type'].fillna(\"None\")\n",
    "data['Internet Type'].value_counts()"
   ]
  },
  {
   "cell_type": "code",
   "execution_count": 14,
   "id": "c9bc36e0-51d8-46bc-aeed-0c9f00716611",
   "metadata": {},
   "outputs": [
    {
     "data": {
      "text/plain": [
       "Streaming Music\n",
       "No     3565\n",
       "Yes    1935\n",
       "Name: count, dtype: int64"
      ]
     },
     "execution_count": 14,
     "metadata": {},
     "output_type": "execute_result"
    }
   ],
   "source": [
    "# Process Streaming Music\n",
    "data['Streaming Music'] = data['Streaming Music'].fillna(\"No\")\n",
    "data['Streaming Music'].value_counts()"
   ]
  },
  {
   "cell_type": "code",
   "execution_count": 15,
   "id": "d08edd5f-93fa-4ccc-9192-a5063828e298",
   "metadata": {},
   "outputs": [
    {
     "data": {
      "text/plain": [
       "Unlimited Data\n",
       "Yes    3709\n",
       "No     1791\n",
       "Name: count, dtype: int64"
      ]
     },
     "execution_count": 15,
     "metadata": {},
     "output_type": "execute_result"
    }
   ],
   "source": [
    "# Process Unlimited Data\n",
    "data['Unlimited Data'] = data['Unlimited Data'].fillna(\"No\")\n",
    "data['Unlimited Data'].value_counts() "
   ]
  },
  {
   "cell_type": "code",
   "execution_count": 16,
   "id": "b70aefdb-0553-4c7c-ad9a-33efec5c19e1",
   "metadata": {},
   "outputs": [],
   "source": [
    "#Process Streaming TV, Streaming Movies\n",
    "data['Streaming TV'] = data['Streaming TV'].fillna(\"No\")\n",
    "data['Streaming Movies'] = data['Streaming Movies'].fillna(\"No\")"
   ]
  },
  {
   "cell_type": "code",
   "execution_count": 17,
   "id": "d24e08e8-ad2c-4159-8ceb-1dfa463496a0",
   "metadata": {},
   "outputs": [],
   "source": [
    "#Process Online Security\n",
    "data['Online Security'] = data['Online Security'].fillna(\"No\")"
   ]
  },
  {
   "cell_type": "code",
   "execution_count": 18,
   "id": "f3cfe308-a679-43ec-9f73-3d332f2e990b",
   "metadata": {},
   "outputs": [],
   "source": [
    "# Process Avg Monthly GB Download\n",
    "data['Avg Monthly GB Download'] = data['Avg Monthly GB Download'].fillna(data['Avg Monthly GB Download'].mean())"
   ]
  },
  {
   "cell_type": "code",
   "execution_count": 19,
   "id": "8a8a9a44-f0c6-4d07-ab40-77e0cb90992f",
   "metadata": {},
   "outputs": [],
   "source": [
    "#Process Online Backup\n",
    "data['Online Backup'] = data['Online Backup'].fillna(\"No\")"
   ]
  },
  {
   "cell_type": "code",
   "execution_count": 20,
   "id": "7572e057-678f-4ac6-b0c8-e4c517822930",
   "metadata": {},
   "outputs": [
    {
     "data": {
      "text/plain": [
       "Offer\n",
       "Offer B    1257\n",
       "Offer E    1227\n",
       "Offer D    1089\n",
       "Offer A     993\n",
       "Offer C     934\n",
       "Name: count, dtype: int64"
      ]
     },
     "execution_count": 20,
     "metadata": {},
     "output_type": "execute_result"
    }
   ],
   "source": [
    "#Process Offer \n",
    "offers = ['Offer A', 'Offer B', 'Offer C', 'Offer D', 'Offer E']\n",
    "data['Offer'] = data['Offer'].apply(lambda x: np.random.choice(offers) if pd.isna(x) else x)\n",
    "data['Offer'].value_counts()"
   ]
  },
  {
   "cell_type": "code",
   "execution_count": 21,
   "id": "c35817ff-7dbb-45ef-b898-da97001c2566",
   "metadata": {},
   "outputs": [
    {
     "data": {
      "text/plain": [
       "Churn Category\n",
       "Other              4164\n",
       "Competitor          656\n",
       "Attitude            269\n",
       "Dissatisfaction     245\n",
       "Price               166\n",
       "Name: count, dtype: int64"
      ]
     },
     "execution_count": 21,
     "metadata": {},
     "output_type": "execute_result"
    }
   ],
   "source": [
    "#Process Churn Category\n",
    "data['Churn Category'] = data['Churn Category'].fillna('Other')\n",
    "data['Churn Category'].value_counts()"
   ]
  },
  {
   "cell_type": "code",
   "execution_count": 22,
   "id": "b363afe5-21bb-4ee3-bc8c-29c2c7ec2731",
   "metadata": {},
   "outputs": [
    {
     "data": {
      "text/plain": [
       "Churn Reason\n",
       "Competitor made better offer                 885\n",
       "Competitor had better devices                884\n",
       "Attitude of support person                   706\n",
       "Don't know                                   348\n",
       "Attitude of service provider                 344\n",
       "Competitor offered more data                 328\n",
       "Competitor offered higher download speeds    318\n",
       "Price too high                               231\n",
       "Network reliability                          209\n",
       "Product dissatisfaction                      208\n",
       "Long distance charges                        199\n",
       "Service dissatisfaction                      195\n",
       "Moved                                        135\n",
       "Lack of self-service on Website              102\n",
       "Lack of affordable download/upload speed     102\n",
       "Poor expertise of online support              95\n",
       "Extra data charges                            95\n",
       "Limited range of services                     85\n",
       "Deceased                                      16\n",
       "Poor expertise of phone support               15\n",
       "Name: count, dtype: int64"
      ]
     },
     "execution_count": 22,
     "metadata": {},
     "output_type": "execute_result"
    }
   ],
   "source": [
    "#Process Churn Resson\n",
    "reasons = {\n",
    "    'Competitor had better devices': 251,\n",
    "    'Competitor made better offer': 235,\n",
    "    'Attitude of support person': 185,\n",
    "    'Don\\'t know': 102,\n",
    "    'Competitor offered more data': 89,\n",
    "    'Attitude of service provider': 84,\n",
    "    'Competitor offered higher download speeds': 81,\n",
    "    'Price too high': 62,\n",
    "    'Product dissatisfaction': 56,\n",
    "    'Service dissatisfaction': 56,\n",
    "    'Network reliability': 54,\n",
    "    'Long distance charges': 52,\n",
    "    'Moved': 38,\n",
    "    'Extra data charges': 28,\n",
    "    'Limited range of services': 25,\n",
    "    'Poor expertise of online support': 25,\n",
    "    'Lack of affordable download/upload speed': 24,\n",
    "    'Lack of self-service on Website': 24,\n",
    "    'Deceased': 6,\n",
    "    'Poor expertise of phone support': 5\n",
    "}\n",
    "reasons_series = pd.Series(reasons)\n",
    "weighted_reasons = reasons_series.index.repeat(reasons_series.values)\n",
    "data['Churn Reason'] = data['Churn Reason'].apply(lambda x: np.random.choice(weighted_reasons) if pd.isna(x) else x)\n",
    "data['Churn Reason'].value_counts()"
   ]
  },
  {
   "cell_type": "code",
   "execution_count": 23,
   "id": "fc3a4e97-1271-4b57-a784-ff765f065299",
   "metadata": {},
   "outputs": [
    {
     "name": "stdout",
     "output_type": "stream",
     "text": [
      "<class 'pandas.core.frame.DataFrame'>\n",
      "RangeIndex: 5500 entries, 0 to 5499\n",
      "Data columns (total 38 columns):\n",
      " #   Column                             Non-Null Count  Dtype  \n",
      "---  ------                             --------------  -----  \n",
      " 0   Customer ID                        5500 non-null   object \n",
      " 1   Gender                             5500 non-null   object \n",
      " 2   Age                                5500 non-null   int64  \n",
      " 3   Married                            5500 non-null   object \n",
      " 4   Number of Dependents               5500 non-null   int64  \n",
      " 5   City                               5500 non-null   object \n",
      " 6   Zip Code                           5500 non-null   int64  \n",
      " 7   Latitude                           5500 non-null   float64\n",
      " 8   Longitude                          5500 non-null   float64\n",
      " 9   Number of Referrals                5500 non-null   int64  \n",
      " 10  Tenure in Months                   5500 non-null   int64  \n",
      " 11  Offer                              5500 non-null   object \n",
      " 12  Phone Service                      5500 non-null   object \n",
      " 13  Avg Monthly Long Distance Charges  5500 non-null   float64\n",
      " 14  Multiple Lines                     5500 non-null   object \n",
      " 15  Internet Service                   5500 non-null   object \n",
      " 16  Internet Type                      5500 non-null   object \n",
      " 17  Avg Monthly GB Download            5500 non-null   float64\n",
      " 18  Online Security                    5500 non-null   object \n",
      " 19  Online Backup                      5500 non-null   object \n",
      " 20  Device Protection Plan             5500 non-null   object \n",
      " 21  Premium Tech Support               5500 non-null   object \n",
      " 22  Streaming TV                       5500 non-null   object \n",
      " 23  Streaming Movies                   5500 non-null   object \n",
      " 24  Streaming Music                    5500 non-null   object \n",
      " 25  Unlimited Data                     5500 non-null   object \n",
      " 26  Contract                           5500 non-null   object \n",
      " 27  Paperless Billing                  5500 non-null   object \n",
      " 28  Payment Method                     5500 non-null   object \n",
      " 29  Monthly Charge                     5500 non-null   float64\n",
      " 30  Total Charges                      5500 non-null   float64\n",
      " 31  Total Refunds                      5500 non-null   float64\n",
      " 32  Total Extra Data Charges           5500 non-null   int64  \n",
      " 33  Total Long Distance Charges        5500 non-null   float64\n",
      " 34  Total Revenue                      5500 non-null   float64\n",
      " 35  Customer Status                    5500 non-null   object \n",
      " 36  Churn Category                     5500 non-null   object \n",
      " 37  Churn Reason                       5500 non-null   object \n",
      "dtypes: float64(9), int64(6), object(23)\n",
      "memory usage: 1.6+ MB\n"
     ]
    }
   ],
   "source": [
    "data.info()"
   ]
  },
  {
   "cell_type": "code",
   "execution_count": null,
   "id": "cafb7a5c-e267-4f70-b099-f4904bf65f60",
   "metadata": {},
   "outputs": [],
   "source": []
  },
  {
   "cell_type": "markdown",
   "id": "d16c794c-346e-49ad-8fa7-7a13760642d4",
   "metadata": {},
   "source": [
    "# Xử lý dữ liệu trùng nhau"
   ]
  },
  {
   "cell_type": "code",
   "execution_count": 24,
   "id": "510faecc-2cc3-4000-9073-0f910b2a397c",
   "metadata": {},
   "outputs": [
    {
     "data": {
      "text/plain": [
       "np.int64(0)"
      ]
     },
     "execution_count": 24,
     "metadata": {},
     "output_type": "execute_result"
    }
   ],
   "source": [
    "data.duplicated().sum()"
   ]
  },
  {
   "cell_type": "markdown",
   "id": "aad24f24-b710-4153-813b-b395b321919e",
   "metadata": {},
   "source": [
    "# Bo cac hang co Customer Status = Join"
   ]
  },
  {
   "cell_type": "code",
   "execution_count": 25,
   "id": "e8833e11-6c6f-446c-aa31-5f5c22da1b08",
   "metadata": {},
   "outputs": [
    {
     "data": {
      "text/plain": [
       "Customer Status\n",
       "Stayed     3663\n",
       "Churned    1482\n",
       "Joined      355\n",
       "Name: count, dtype: int64"
      ]
     },
     "execution_count": 25,
     "metadata": {},
     "output_type": "execute_result"
    }
   ],
   "source": [
    "data['Customer Status'].value_counts()"
   ]
  },
  {
   "cell_type": "code",
   "execution_count": 27,
   "id": "c92178b5-5dff-4a82-981d-f10d52dd2879",
   "metadata": {},
   "outputs": [
    {
     "ename": "NameError",
     "evalue": "name 'plt' is not defined",
     "output_type": "error",
     "traceback": [
      "\u001b[0;31m---------------------------------------------------------------------------\u001b[0m",
      "\u001b[0;31mNameError\u001b[0m                                 Traceback (most recent call last)",
      "Cell \u001b[0;32mIn[27], line 4\u001b[0m\n\u001b[1;32m      1\u001b[0m data  \u001b[38;5;241m=\u001b[39m data[data[\u001b[38;5;124m'\u001b[39m\u001b[38;5;124mCustomer Status\u001b[39m\u001b[38;5;124m'\u001b[39m] \u001b[38;5;241m!=\u001b[39m \u001b[38;5;124m'\u001b[39m\u001b[38;5;124mJoined\u001b[39m\u001b[38;5;124m'\u001b[39m]\n\u001b[1;32m      2\u001b[0m data_hist \u001b[38;5;241m=\u001b[39m data[\u001b[38;5;124m'\u001b[39m\u001b[38;5;124mCustomer Status\u001b[39m\u001b[38;5;124m'\u001b[39m]\u001b[38;5;241m.\u001b[39mvalue_counts()\n\u001b[0;32m----> 4\u001b[0m \u001b[43mplt\u001b[49m\u001b[38;5;241m.\u001b[39mfigure(figsize\u001b[38;5;241m=\u001b[39m(\u001b[38;5;241m8\u001b[39m, \u001b[38;5;241m6\u001b[39m))\n\u001b[1;32m      5\u001b[0m data_hist\u001b[38;5;241m.\u001b[39mplot(kind\u001b[38;5;241m=\u001b[39m\u001b[38;5;124m'\u001b[39m\u001b[38;5;124mbar\u001b[39m\u001b[38;5;124m'\u001b[39m, color\u001b[38;5;241m=\u001b[39m\u001b[38;5;124m'\u001b[39m\u001b[38;5;124mskyblue\u001b[39m\u001b[38;5;124m'\u001b[39m)\n\u001b[1;32m      7\u001b[0m plt\u001b[38;5;241m.\u001b[39mtitle(\u001b[38;5;124m'\u001b[39m\u001b[38;5;124mCustomer Status Distribution\u001b[39m\u001b[38;5;124m'\u001b[39m)\n",
      "\u001b[0;31mNameError\u001b[0m: name 'plt' is not defined"
     ]
    }
   ],
   "source": [
    "data  = data[data['Customer Status'] != 'Joined']\n",
    "data_hist = data['Customer Status'].value_counts()\n",
    "\n",
    "plt.figure(figsize=(8, 6))\n",
    "data_hist.plot(kind='bar', color='skyblue')\n",
    "\n",
    "plt.title('Customer Status Distribution')\n",
    "plt.xlabel('Customer Status')\n",
    "plt.ylabel('Count')\n",
    "plt.show()"
   ]
  },
  {
   "cell_type": "code",
   "execution_count": null,
   "id": "63454150-91e8-4da3-84a2-43ed8dbab33b",
   "metadata": {},
   "outputs": [],
   "source": []
  },
  {
   "cell_type": "code",
   "execution_count": 28,
   "id": "2f798eb2-ab48-48fd-95af-5d1c97aa1e33",
   "metadata": {},
   "outputs": [],
   "source": [
    "def is_yes_no_column(series):\n",
    "    unique_values = series.dropna().unique()\n",
    "    return set(unique_values) == {\"Yes\", \"No\"}"
   ]
  },
  {
   "cell_type": "code",
   "execution_count": 29,
   "id": "19294cc3-0087-470c-a5fe-509a822dd4cd",
   "metadata": {},
   "outputs": [],
   "source": [
    "columns_to_encode = [col for col in data.columns if is_yes_no_column(data[col])]"
   ]
  },
  {
   "cell_type": "code",
   "execution_count": 30,
   "id": "487796d0-ebfc-483b-ad98-c0859389280b",
   "metadata": {},
   "outputs": [
    {
     "data": {
      "text/plain": [
       "['Married',\n",
       " 'Phone Service',\n",
       " 'Multiple Lines',\n",
       " 'Internet Service',\n",
       " 'Online Security',\n",
       " 'Online Backup',\n",
       " 'Device Protection Plan',\n",
       " 'Premium Tech Support',\n",
       " 'Streaming TV',\n",
       " 'Streaming Movies',\n",
       " 'Streaming Music',\n",
       " 'Unlimited Data',\n",
       " 'Paperless Billing']"
      ]
     },
     "execution_count": 30,
     "metadata": {},
     "output_type": "execute_result"
    }
   ],
   "source": [
    "columns_to_encode"
   ]
  },
  {
   "cell_type": "markdown",
   "id": "724a43e3-b661-4b23-8710-14fb766d382c",
   "metadata": {},
   "source": [
    "# Label Endcoding"
   ]
  },
  {
   "cell_type": "code",
   "execution_count": 31,
   "id": "c8634080-af8e-4f25-a983-4ab2e7d797d1",
   "metadata": {},
   "outputs": [],
   "source": [
    "from sklearn.preprocessing import LabelEncoder"
   ]
  },
  {
   "cell_type": "code",
   "execution_count": 32,
   "id": "9458b766-5ad2-4d50-a3da-9c2a396169df",
   "metadata": {},
   "outputs": [],
   "source": [
    "label_encoder = LabelEncoder()\n",
    "\n",
    "for col in columns_to_encode:\n",
    "    data[col] = label_encoder.fit_transform(data[col])"
   ]
  },
  {
   "cell_type": "code",
   "execution_count": 33,
   "id": "63f03eb3-808b-4f60-ad13-a4a8e620ecae",
   "metadata": {},
   "outputs": [
    {
     "name": "stdout",
     "output_type": "stream",
     "text": [
      "<class 'pandas.core.frame.DataFrame'>\n",
      "Index: 5145 entries, 0 to 5499\n",
      "Data columns (total 38 columns):\n",
      " #   Column                             Non-Null Count  Dtype  \n",
      "---  ------                             --------------  -----  \n",
      " 0   Customer ID                        5145 non-null   object \n",
      " 1   Gender                             5145 non-null   object \n",
      " 2   Age                                5145 non-null   int64  \n",
      " 3   Married                            5145 non-null   int64  \n",
      " 4   Number of Dependents               5145 non-null   int64  \n",
      " 5   City                               5145 non-null   object \n",
      " 6   Zip Code                           5145 non-null   int64  \n",
      " 7   Latitude                           5145 non-null   float64\n",
      " 8   Longitude                          5145 non-null   float64\n",
      " 9   Number of Referrals                5145 non-null   int64  \n",
      " 10  Tenure in Months                   5145 non-null   int64  \n",
      " 11  Offer                              5145 non-null   object \n",
      " 12  Phone Service                      5145 non-null   int64  \n",
      " 13  Avg Monthly Long Distance Charges  5145 non-null   float64\n",
      " 14  Multiple Lines                     5145 non-null   int64  \n",
      " 15  Internet Service                   5145 non-null   int64  \n",
      " 16  Internet Type                      5145 non-null   object \n",
      " 17  Avg Monthly GB Download            5145 non-null   float64\n",
      " 18  Online Security                    5145 non-null   int64  \n",
      " 19  Online Backup                      5145 non-null   int64  \n",
      " 20  Device Protection Plan             5145 non-null   int64  \n",
      " 21  Premium Tech Support               5145 non-null   int64  \n",
      " 22  Streaming TV                       5145 non-null   int64  \n",
      " 23  Streaming Movies                   5145 non-null   int64  \n",
      " 24  Streaming Music                    5145 non-null   int64  \n",
      " 25  Unlimited Data                     5145 non-null   int64  \n",
      " 26  Contract                           5145 non-null   object \n",
      " 27  Paperless Billing                  5145 non-null   int64  \n",
      " 28  Payment Method                     5145 non-null   object \n",
      " 29  Monthly Charge                     5145 non-null   float64\n",
      " 30  Total Charges                      5145 non-null   float64\n",
      " 31  Total Refunds                      5145 non-null   float64\n",
      " 32  Total Extra Data Charges           5145 non-null   int64  \n",
      " 33  Total Long Distance Charges        5145 non-null   float64\n",
      " 34  Total Revenue                      5145 non-null   float64\n",
      " 35  Customer Status                    5145 non-null   object \n",
      " 36  Churn Category                     5145 non-null   object \n",
      " 37  Churn Reason                       5145 non-null   object \n",
      "dtypes: float64(9), int64(19), object(10)\n",
      "memory usage: 1.5+ MB\n"
     ]
    }
   ],
   "source": [
    "data.info()"
   ]
  },
  {
   "cell_type": "code",
   "execution_count": 35,
   "id": "1e194cd7-514f-408c-a29b-58c0913fdd40",
   "metadata": {},
   "outputs": [
    {
     "data": {
      "text/html": [
       "<div>\n",
       "<style scoped>\n",
       "    .dataframe tbody tr th:only-of-type {\n",
       "        vertical-align: middle;\n",
       "    }\n",
       "\n",
       "    .dataframe tbody tr th {\n",
       "        vertical-align: top;\n",
       "    }\n",
       "\n",
       "    .dataframe thead th {\n",
       "        text-align: right;\n",
       "    }\n",
       "</style>\n",
       "<table border=\"1\" class=\"dataframe\">\n",
       "  <thead>\n",
       "    <tr style=\"text-align: right;\">\n",
       "      <th></th>\n",
       "      <th>Married</th>\n",
       "      <th>Phone Service</th>\n",
       "      <th>Multiple Lines</th>\n",
       "      <th>Internet Service</th>\n",
       "      <th>Online Security</th>\n",
       "      <th>Online Backup</th>\n",
       "      <th>Device Protection Plan</th>\n",
       "      <th>Premium Tech Support</th>\n",
       "      <th>Streaming TV</th>\n",
       "      <th>Streaming Movies</th>\n",
       "      <th>Streaming Music</th>\n",
       "      <th>Unlimited Data</th>\n",
       "      <th>Paperless Billing</th>\n",
       "    </tr>\n",
       "  </thead>\n",
       "  <tbody>\n",
       "    <tr>\n",
       "      <th>0</th>\n",
       "      <td>1</td>\n",
       "      <td>1</td>\n",
       "      <td>0</td>\n",
       "      <td>1</td>\n",
       "      <td>0</td>\n",
       "      <td>1</td>\n",
       "      <td>0</td>\n",
       "      <td>1</td>\n",
       "      <td>1</td>\n",
       "      <td>0</td>\n",
       "      <td>0</td>\n",
       "      <td>1</td>\n",
       "      <td>1</td>\n",
       "    </tr>\n",
       "    <tr>\n",
       "      <th>1</th>\n",
       "      <td>0</td>\n",
       "      <td>1</td>\n",
       "      <td>1</td>\n",
       "      <td>1</td>\n",
       "      <td>0</td>\n",
       "      <td>0</td>\n",
       "      <td>0</td>\n",
       "      <td>0</td>\n",
       "      <td>0</td>\n",
       "      <td>1</td>\n",
       "      <td>1</td>\n",
       "      <td>0</td>\n",
       "      <td>0</td>\n",
       "    </tr>\n",
       "    <tr>\n",
       "      <th>2</th>\n",
       "      <td>0</td>\n",
       "      <td>1</td>\n",
       "      <td>0</td>\n",
       "      <td>1</td>\n",
       "      <td>0</td>\n",
       "      <td>0</td>\n",
       "      <td>1</td>\n",
       "      <td>0</td>\n",
       "      <td>0</td>\n",
       "      <td>0</td>\n",
       "      <td>0</td>\n",
       "      <td>1</td>\n",
       "      <td>1</td>\n",
       "    </tr>\n",
       "    <tr>\n",
       "      <th>3</th>\n",
       "      <td>1</td>\n",
       "      <td>1</td>\n",
       "      <td>0</td>\n",
       "      <td>1</td>\n",
       "      <td>0</td>\n",
       "      <td>1</td>\n",
       "      <td>1</td>\n",
       "      <td>0</td>\n",
       "      <td>1</td>\n",
       "      <td>1</td>\n",
       "      <td>0</td>\n",
       "      <td>1</td>\n",
       "      <td>1</td>\n",
       "    </tr>\n",
       "    <tr>\n",
       "      <th>4</th>\n",
       "      <td>1</td>\n",
       "      <td>1</td>\n",
       "      <td>0</td>\n",
       "      <td>1</td>\n",
       "      <td>0</td>\n",
       "      <td>0</td>\n",
       "      <td>0</td>\n",
       "      <td>1</td>\n",
       "      <td>1</td>\n",
       "      <td>0</td>\n",
       "      <td>0</td>\n",
       "      <td>1</td>\n",
       "      <td>1</td>\n",
       "    </tr>\n",
       "  </tbody>\n",
       "</table>\n",
       "</div>"
      ],
      "text/plain": [
       "   Married  Phone Service  Multiple Lines  Internet Service  Online Security  \\\n",
       "0        1              1               0                 1                0   \n",
       "1        0              1               1                 1                0   \n",
       "2        0              1               0                 1                0   \n",
       "3        1              1               0                 1                0   \n",
       "4        1              1               0                 1                0   \n",
       "\n",
       "   Online Backup  Device Protection Plan  Premium Tech Support  Streaming TV  \\\n",
       "0              1                       0                     1             1   \n",
       "1              0                       0                     0             0   \n",
       "2              0                       1                     0             0   \n",
       "3              1                       1                     0             1   \n",
       "4              0                       0                     1             1   \n",
       "\n",
       "   Streaming Movies  Streaming Music  Unlimited Data  Paperless Billing  \n",
       "0                 0                0               1                  1  \n",
       "1                 1                1               0                  0  \n",
       "2                 0                0               1                  1  \n",
       "3                 1                0               1                  1  \n",
       "4                 0                0               1                  1  "
      ]
     },
     "execution_count": 35,
     "metadata": {},
     "output_type": "execute_result"
    }
   ],
   "source": [
    "data[columns_to_encode].head()"
   ]
  },
  {
   "cell_type": "markdown",
   "id": "0fd3fc04-4a1d-47c2-8789-2812ebae68fa",
   "metadata": {},
   "source": [
    "# Onehot encoding"
   ]
  },
  {
   "cell_type": "code",
   "execution_count": 39,
   "id": "8b74f0d9-a593-463b-9298-3ffd80d0ef8c",
   "metadata": {},
   "outputs": [],
   "source": [
    "columns_to_onehot = ['Offer', 'Internet Type', 'Contract', 'Payment Method', 'Churn Category', 'Churn Reason']"
   ]
  },
  {
   "cell_type": "code",
   "execution_count": 40,
   "id": "c63bc8eb-432b-483a-bfdd-701d6e4cbc15",
   "metadata": {},
   "outputs": [],
   "source": [
    "data = pd.get_dummies(data, columns= columns_to_onehot)"
   ]
  },
  {
   "cell_type": "code",
   "execution_count": 41,
   "id": "cf2670d9-d746-479e-a429-a39899883fd6",
   "metadata": {},
   "outputs": [
    {
     "name": "stdout",
     "output_type": "stream",
     "text": [
      "<class 'pandas.core.frame.DataFrame'>\n",
      "Index: 5145 entries, 0 to 5499\n",
      "Data columns (total 72 columns):\n",
      " #   Column                                                  Non-Null Count  Dtype  \n",
      "---  ------                                                  --------------  -----  \n",
      " 0   Customer ID                                             5145 non-null   object \n",
      " 1   Gender                                                  5145 non-null   object \n",
      " 2   Age                                                     5145 non-null   int64  \n",
      " 3   Married                                                 5145 non-null   int64  \n",
      " 4   Number of Dependents                                    5145 non-null   int64  \n",
      " 5   City                                                    5145 non-null   object \n",
      " 6   Zip Code                                                5145 non-null   int64  \n",
      " 7   Latitude                                                5145 non-null   float64\n",
      " 8   Longitude                                               5145 non-null   float64\n",
      " 9   Number of Referrals                                     5145 non-null   int64  \n",
      " 10  Tenure in Months                                        5145 non-null   int64  \n",
      " 11  Phone Service                                           5145 non-null   int64  \n",
      " 12  Avg Monthly Long Distance Charges                       5145 non-null   float64\n",
      " 13  Multiple Lines                                          5145 non-null   int64  \n",
      " 14  Internet Service                                        5145 non-null   int64  \n",
      " 15  Avg Monthly GB Download                                 5145 non-null   float64\n",
      " 16  Online Security                                         5145 non-null   int64  \n",
      " 17  Online Backup                                           5145 non-null   int64  \n",
      " 18  Device Protection Plan                                  5145 non-null   int64  \n",
      " 19  Premium Tech Support                                    5145 non-null   int64  \n",
      " 20  Streaming TV                                            5145 non-null   int64  \n",
      " 21  Streaming Movies                                        5145 non-null   int64  \n",
      " 22  Streaming Music                                         5145 non-null   int64  \n",
      " 23  Unlimited Data                                          5145 non-null   int64  \n",
      " 24  Paperless Billing                                       5145 non-null   int64  \n",
      " 25  Monthly Charge                                          5145 non-null   float64\n",
      " 26  Total Charges                                           5145 non-null   float64\n",
      " 27  Total Refunds                                           5145 non-null   float64\n",
      " 28  Total Extra Data Charges                                5145 non-null   int64  \n",
      " 29  Total Long Distance Charges                             5145 non-null   float64\n",
      " 30  Total Revenue                                           5145 non-null   float64\n",
      " 31  Customer Status                                         5145 non-null   object \n",
      " 32  Offer_Offer A                                           5145 non-null   bool   \n",
      " 33  Offer_Offer B                                           5145 non-null   bool   \n",
      " 34  Offer_Offer C                                           5145 non-null   bool   \n",
      " 35  Offer_Offer D                                           5145 non-null   bool   \n",
      " 36  Offer_Offer E                                           5145 non-null   bool   \n",
      " 37  Internet Type_Cable                                     5145 non-null   bool   \n",
      " 38  Internet Type_DSL                                       5145 non-null   bool   \n",
      " 39  Internet Type_Fiber Optic                               5145 non-null   bool   \n",
      " 40  Internet Type_None                                      5145 non-null   bool   \n",
      " 41  Contract_Month-to-Month                                 5145 non-null   bool   \n",
      " 42  Contract_One Year                                       5145 non-null   bool   \n",
      " 43  Contract_Two Year                                       5145 non-null   bool   \n",
      " 44  Payment Method_Bank Withdrawal                          5145 non-null   bool   \n",
      " 45  Payment Method_Credit Card                              5145 non-null   bool   \n",
      " 46  Payment Method_Mailed Check                             5145 non-null   bool   \n",
      " 47  Churn Category_Attitude                                 5145 non-null   bool   \n",
      " 48  Churn Category_Competitor                               5145 non-null   bool   \n",
      " 49  Churn Category_Dissatisfaction                          5145 non-null   bool   \n",
      " 50  Churn Category_Other                                    5145 non-null   bool   \n",
      " 51  Churn Category_Price                                    5145 non-null   bool   \n",
      " 52  Churn Reason_Attitude of service provider               5145 non-null   bool   \n",
      " 53  Churn Reason_Attitude of support person                 5145 non-null   bool   \n",
      " 54  Churn Reason_Competitor had better devices              5145 non-null   bool   \n",
      " 55  Churn Reason_Competitor made better offer               5145 non-null   bool   \n",
      " 56  Churn Reason_Competitor offered higher download speeds  5145 non-null   bool   \n",
      " 57  Churn Reason_Competitor offered more data               5145 non-null   bool   \n",
      " 58  Churn Reason_Deceased                                   5145 non-null   bool   \n",
      " 59  Churn Reason_Don't know                                 5145 non-null   bool   \n",
      " 60  Churn Reason_Extra data charges                         5145 non-null   bool   \n",
      " 61  Churn Reason_Lack of affordable download/upload speed   5145 non-null   bool   \n",
      " 62  Churn Reason_Lack of self-service on Website            5145 non-null   bool   \n",
      " 63  Churn Reason_Limited range of services                  5145 non-null   bool   \n",
      " 64  Churn Reason_Long distance charges                      5145 non-null   bool   \n",
      " 65  Churn Reason_Moved                                      5145 non-null   bool   \n",
      " 66  Churn Reason_Network reliability                        5145 non-null   bool   \n",
      " 67  Churn Reason_Poor expertise of online support           5145 non-null   bool   \n",
      " 68  Churn Reason_Poor expertise of phone support            5145 non-null   bool   \n",
      " 69  Churn Reason_Price too high                             5145 non-null   bool   \n",
      " 70  Churn Reason_Product dissatisfaction                    5145 non-null   bool   \n",
      " 71  Churn Reason_Service dissatisfaction                    5145 non-null   bool   \n",
      "dtypes: bool(40), float64(9), int64(19), object(4)\n",
      "memory usage: 1.5+ MB\n"
     ]
    }
   ],
   "source": [
    "data.info()"
   ]
  },
  {
   "cell_type": "code",
   "execution_count": 47,
   "id": "a827a61b-44a7-4a33-8181-766e8497ba78",
   "metadata": {},
   "outputs": [],
   "source": [
    "# Feature Scalling\n",
    "from sklearn.preprocessing import MinMaxScaler\n",
    "\n",
    "\n",
    "columns_to_scaller = ['Avg Monthly Long Distance Charges', 'Avg Monthly GB Download', 'Monthly Charge', 'Total Charges', 'Total Refunds','Total Extra Data Charges', 'Total Long Distance Charges', 'Total Revenue']\n",
    "\n",
    "scaler = MinMaxScaler(feature_range=(0, 1))\n",
    "\n",
    "data[columns_to_scaller] = scaler.fit_transform(data[columns_to_scaller])\n"
   ]
  },
  {
   "cell_type": "code",
   "execution_count": 48,
   "id": "4d20f019-17b5-46d5-8dff-8c4928e72a1e",
   "metadata": {},
   "outputs": [
    {
     "data": {
      "text/html": [
       "<div>\n",
       "<style scoped>\n",
       "    .dataframe tbody tr th:only-of-type {\n",
       "        vertical-align: middle;\n",
       "    }\n",
       "\n",
       "    .dataframe tbody tr th {\n",
       "        vertical-align: top;\n",
       "    }\n",
       "\n",
       "    .dataframe thead th {\n",
       "        text-align: right;\n",
       "    }\n",
       "</style>\n",
       "<table border=\"1\" class=\"dataframe\">\n",
       "  <thead>\n",
       "    <tr style=\"text-align: right;\">\n",
       "      <th></th>\n",
       "      <th>Avg Monthly Long Distance Charges</th>\n",
       "      <th>Avg Monthly GB Download</th>\n",
       "      <th>Monthly Charge</th>\n",
       "      <th>Total Charges</th>\n",
       "      <th>Total Refunds</th>\n",
       "      <th>Total Extra Data Charges</th>\n",
       "      <th>Total Long Distance Charges</th>\n",
       "      <th>Total Revenue</th>\n",
       "    </tr>\n",
       "  </thead>\n",
       "  <tbody>\n",
       "    <tr>\n",
       "      <th>0</th>\n",
       "      <td>0.844835</td>\n",
       "      <td>0.168675</td>\n",
       "      <td>0.587184</td>\n",
       "      <td>0.066261</td>\n",
       "      <td>0.000000</td>\n",
       "      <td>0.000000</td>\n",
       "      <td>0.107024</td>\n",
       "      <td>0.079714</td>\n",
       "    </tr>\n",
       "    <tr>\n",
       "      <th>1</th>\n",
       "      <td>0.197632</td>\n",
       "      <td>0.096386</td>\n",
       "      <td>0.046602</td>\n",
       "      <td>0.060388</td>\n",
       "      <td>0.769833</td>\n",
       "      <td>0.066667</td>\n",
       "      <td>0.026989</td>\n",
       "      <td>0.049229</td>\n",
       "    </tr>\n",
       "    <tr>\n",
       "      <th>2</th>\n",
       "      <td>0.666394</td>\n",
       "      <td>0.337349</td>\n",
       "      <td>0.651650</td>\n",
       "      <td>0.030205</td>\n",
       "      <td>0.000000</td>\n",
       "      <td>0.000000</td>\n",
       "      <td>0.037759</td>\n",
       "      <td>0.032936</td>\n",
       "    </tr>\n",
       "    <tr>\n",
       "      <th>3</th>\n",
       "      <td>0.547366</td>\n",
       "      <td>0.024096</td>\n",
       "      <td>0.838835</td>\n",
       "      <td>0.140641</td>\n",
       "      <td>0.000000</td>\n",
       "      <td>0.000000</td>\n",
       "      <td>0.101455</td>\n",
       "      <td>0.131956</td>\n",
       "    </tr>\n",
       "    <tr>\n",
       "      <th>4</th>\n",
       "      <td>0.130053</td>\n",
       "      <td>0.108434</td>\n",
       "      <td>0.729320</td>\n",
       "      <td>0.028653</td>\n",
       "      <td>0.000000</td>\n",
       "      <td>0.000000</td>\n",
       "      <td>0.006211</td>\n",
       "      <td>0.022406</td>\n",
       "    </tr>\n",
       "  </tbody>\n",
       "</table>\n",
       "</div>"
      ],
      "text/plain": [
       "   Avg Monthly Long Distance Charges  Avg Monthly GB Download  Monthly Charge  \\\n",
       "0                           0.844835                 0.168675        0.587184   \n",
       "1                           0.197632                 0.096386        0.046602   \n",
       "2                           0.666394                 0.337349        0.651650   \n",
       "3                           0.547366                 0.024096        0.838835   \n",
       "4                           0.130053                 0.108434        0.729320   \n",
       "\n",
       "   Total Charges  Total Refunds  Total Extra Data Charges  \\\n",
       "0       0.066261       0.000000                  0.000000   \n",
       "1       0.060388       0.769833                  0.066667   \n",
       "2       0.030205       0.000000                  0.000000   \n",
       "3       0.140641       0.000000                  0.000000   \n",
       "4       0.028653       0.000000                  0.000000   \n",
       "\n",
       "   Total Long Distance Charges  Total Revenue  \n",
       "0                     0.107024       0.079714  \n",
       "1                     0.026989       0.049229  \n",
       "2                     0.037759       0.032936  \n",
       "3                     0.101455       0.131956  \n",
       "4                     0.006211       0.022406  "
      ]
     },
     "execution_count": 48,
     "metadata": {},
     "output_type": "execute_result"
    }
   ],
   "source": [
    "data[columns_to_scaller].head()"
   ]
  },
  {
   "cell_type": "code",
   "execution_count": null,
   "id": "72e70b8c-db01-4704-9050-493bf08833f4",
   "metadata": {},
   "outputs": [],
   "source": []
  }
 ],
 "metadata": {
  "kernelspec": {
   "display_name": "display1",
   "language": "python",
   "name": "venv"
  },
  "language_info": {
   "codemirror_mode": {
    "name": "ipython",
    "version": 3
   },
   "file_extension": ".py",
   "mimetype": "text/x-python",
   "name": "python",
   "nbconvert_exporter": "python",
   "pygments_lexer": "ipython3",
   "version": "3.12.3"
  }
 },
 "nbformat": 4,
 "nbformat_minor": 5
}
