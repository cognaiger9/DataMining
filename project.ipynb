{
 "cells": [
  {
   "cell_type": "markdown",
   "id": "5ee1351a",
   "metadata": {},
   "source": [
    "# Xây dựng mô hình dự đoán khách hàng rời mạng viến thông"
   ]
  },
  {
   "cell_type": "markdown",
   "id": "ee608a01",
   "metadata": {},
   "source": [
    "Giữ chân khách hàng là yếu tố then chốt cho sự thành công của một công ty, đặc biệt trong một ngành cạnh tranh như dịch vụ viễn thông. Thu hút khách hàng mới không chỉ khó khăn hơn mà còn tốn kém hơn nhiều so với việc duy trì mối quan hệ với khách hàng hiện tại. Trong dự án này, chúng tôi sẽ dự đoán khách hàng có ý định rời bỏ dịch vụ tại một công ty cung cấp dịch vụ viễn thông. Trước tiên, chúng tôi sẽ sử dụng phân tích dữ liệu thăm dò để hiểu các mối quan hệ giữa các đặc điểm và biến mục tiêu, và xác định các yếu tố có ảnh hưởng trong quyết định rời bỏ của khách hàng. Sử dụng những đặc điểm này, chúng tôi sẽ phát triển một mô hình dự đoán để giúp công ty giảm tỷ lệ rời bỏ một cách chủ động và sử dụng những thông tin từ mô hình để củng cố các chiến lược giữ chân khách hàng."
   ]
  },
  {
   "cell_type": "markdown",
   "id": "de3fecf7",
   "metadata": {},
   "source": [
    "## 1. Import thư viện"
   ]
  },
  {
   "cell_type": "code",
   "execution_count": null,
   "id": "19c6f04d-587b-4dcd-a17f-157acc7ff0ba",
   "metadata": {},
   "outputs": [],
   "source": [
    "import pandas as pd\n",
    "import matplotlib.pyplot as plt\n",
    "import numpy as np\n",
    "import seaborn as sns\n",
    "import lightgbm as lgb\n",
    "\n",
    "from sklearn.preprocessing import LabelEncoder, OneHotEncoder, MinMaxScaler, StandardScaler\n",
    "from sklearn.feature_selection import f_classif\n",
    "from sklearn.ensemble import RandomForestClassifier\n",
    "from sklearn.metrics import classification_report, confusion_matrix, accuracy_score\n",
    "from sklearn.neighbors import KNeighborsClassifier\n",
    "from sklearn.svm import SVC\n",
    "from sklearn.linear_model import LogisticRegression\n",
    "from sklearn.tree import DecisionTreeClassifier\n",
    "from imblearn.over_sampling import SMOTE\n",
    "\n",
    "from tensorflow.keras.models import Sequential\n",
    "from tensorflow.keras.layers import Dense, Dropout,Input"
   ]
  },
  {
   "cell_type": "markdown",
   "id": "0f172763",
   "metadata": {},
   "source": [
    "## 2. Load dữ liệu"
   ]
  },
  {
   "cell_type": "code",
   "execution_count": null,
   "id": "d6568d28-94a6-47ed-9b47-efe945d0d39a",
   "metadata": {},
   "outputs": [],
   "source": [
    "train_data = pd.read_csv('telecom_train.csv')\n",
    "train_df = pd.DataFrame(data=train_data)\n",
    "\n",
    "test_data = pd.read_csv('telecom_test.csv')\n",
    "test_df = pd.DataFrame(data=test_data)\n",
    "\n",
    "zip_cols = ['zip', 'density']\n",
    "zip_data = pd.read_csv('uszips.csv', usecols=zip_cols)\n",
    "zip_df = pd.DataFrame(data=zip_data)"
   ]
  },
  {
   "cell_type": "code",
   "execution_count": null,
   "id": "96ebce22",
   "metadata": {},
   "outputs": [],
   "source": [
    "# show first 5 rows\n",
    "pd.set_option('display.max_columns', None)\n",
    "train_df.head(5)"
   ]
  },
  {
   "cell_type": "markdown",
   "id": "ff49567e",
   "metadata": {},
   "source": [
    "## 3. Phân tích dữ liệu\n"
   ]
  },
  {
   "cell_type": "code",
   "execution_count": null,
   "id": "e60fe0f5",
   "metadata": {},
   "outputs": [],
   "source": [
    "train_df.info()"
   ]
  },
  {
   "cell_type": "markdown",
   "id": "f2ff9ef6",
   "metadata": {},
   "source": [
    "Dữ liệu từ tập training bao gồm 5500 bản ghi với 38 thuộc tính được chia thành hai loại: dữ liệu nhân khẩu học của khách hàng và thông tin liên quan đến dịch vụ viễn thông của họ. Các đặc điểm nhân khẩu học bao gồm giới tính, tình trạng hôn nhân, số người phụ thuộc, và tuổi tác của khách hàng. Các đặc điểm liên quan đến thông tin tài khoản bao gồm thời gian khách hàng đã gắn bó với dịch vụ, chi phí hàng tháng và tổng chi phí, loại hợp đồng (theo tháng, một năm, hoặc hai năm), và loại dịch vụ điện thoại, internet, TV. Biến mục tiêu của chúng tôi cho nghiên cứu này là tình trạng khách hàng, một biến phân loại biểu thị liệu khách hàng ở lại hay đã rời dịch vụ.\n"
   ]
  },
  {
   "cell_type": "code",
   "execution_count": null,
   "id": "1a9a6de3",
   "metadata": {},
   "outputs": [],
   "source": [
    "train_df.isnull().sum()"
   ]
  },
  {
   "cell_type": "code",
   "execution_count": null,
   "id": "be16691f",
   "metadata": {},
   "outputs": [],
   "source": [
    "train_df.value_counts('Customer Status')"
   ]
  },
  {
   "cell_type": "markdown",
   "id": "cc524284",
   "metadata": {},
   "source": [
    "Số liệu cho thấy có 3663 người tiếp tục sử dụng dịch vụ, 1482 người đã ngừng sử dụng, và 355 người mới tham gia. Tỷ lệ giữ chân khách hàng khá tốt, với số người ở lại cao hơn đáng kể so với số người rời đi. Tuy nhiên, số lượng khách hàng mới còn thấp, chỉ bằng khoảng 1/4 số người rời đi."
   ]
  },
  {
   "cell_type": "markdown",
   "id": "cb6f6474",
   "metadata": {},
   "source": [
    "### Phân tích đơn biến"
   ]
  },
  {
   "cell_type": "code",
   "execution_count": null,
   "id": "6de00082",
   "metadata": {},
   "outputs": [],
   "source": [
    "desc_df = train_df.describe(include=[object])\n",
    "desc_df = desc_df.drop(columns=['Customer ID'])\n",
    "desc_df"
   ]
  },
  {
   "cell_type": "code",
   "execution_count": null,
   "id": "93ce4f5a",
   "metadata": {},
   "outputs": [],
   "source": [
    "train_df.describe(include=[np.number])\n"
   ]
  },
  {
   "cell_type": "code",
   "execution_count": null,
   "id": "2f4c8e54",
   "metadata": {},
   "outputs": [],
   "source": [
    "train_df.hist(figsize=(15, 20), xrot=60)"
   ]
  },
  {
   "cell_type": "markdown",
   "id": "03c2192b",
   "metadata": {},
   "source": [
    "Đồ thị này cung cấp một cái nhìn tổng quan về nhiều khía cạnh của dữ liệu khách hàng. Phân bố độ tuổi khá đều, với số lượng cao nhất ở nhóm 20-25. Đa số khách hàng không có người phụ thuộc. Số lượng giới thiệu thấp, với đa số khách hàng không giới thiệu ai. Thời gian sử dụng dịch vụ đa dạng, phần lớn khách hàng dùng từ 0 đến 20 tháng. Phí hàng tháng tập trung ở mức trung bình (phần đông trả 20 đến 25$ một tháng). Tổng chi phí càng cao thì số lượng khác hàng càng giảm. Phí dữ liệu phụ trội và cước gọi đường dài chủ yếu ở mức thấp với hầu hết khách hàng."
   ]
  },
  {
   "cell_type": "markdown",
   "id": "0be2e2d0",
   "metadata": {},
   "source": [
    "### Phân tích đa biến"
   ]
  },
  {
   "cell_type": "code",
   "execution_count": null,
   "id": "52d667a8",
   "metadata": {},
   "outputs": [],
   "source": [
    "# encode customer status\n",
    "class_dict = {'Stayed': 0, 'Churned': 1, 'Joined': 0}\n",
    "train_df = train_df.replace({'Customer Status': class_dict})\n",
    "test_df = test_df.replace({'Customer Status': class_dict})"
   ]
  },
  {
   "cell_type": "code",
   "execution_count": null,
   "id": "034fcf1b",
   "metadata": {},
   "outputs": [],
   "source": [
    "numeric_train_df = train_df.select_dtypes(include=[np.number])\n",
    "fig, ax = plt.subplots(figsize=(15, 15))\n",
    "axes = sns.heatmap(numeric_train_df.corr('spearman'), annot=True, ax=ax, linewidths=.5, fmt='.1f', cmap='rocket')"
   ]
  },
  {
   "cell_type": "markdown",
   "id": "ab0b0205",
   "metadata": {},
   "source": [
    "Tổng doanh thu có tương quan mạnh với tổng chi phí, thời gian sử dụng dịch vụ và cước gọi đường dài. Mã bưu điện, vĩ độ và kinh độ có mối liên hệ chặt chẽ, phản ánh vị trí địa lý. Thời gian sử dụng dịch vụ ảnh hưởng tích cực đến nhiều yếu tố như số lượng giới thiệu, chi phí hàng tháng và tổng chi phí. Thời gian ở lại tương quan âm với tình trạng khách hàng, chỉ ra rằng khách hàng càng có thâm niên thì càng ít có khả năng rời mạng."
   ]
  },
  {
   "cell_type": "markdown",
   "id": "426478b5",
   "metadata": {},
   "source": [
    "### Trực quan hoá các thuộc tính có liên quan đến khả năng rời bỏ dịch vụ"
   ]
  },
  {
   "cell_type": "code",
   "execution_count": null,
   "id": "09739a7d",
   "metadata": {},
   "outputs": [],
   "source": [
    "# scatterplot of total charge vs. monthly charge (with labels)\n",
    "plt.figure(figsize=(10, 10))\n",
    "sns.scatterplot(data=train_df, x='Monthly Charge', y='Total Charges', hue='Customer Status')"
   ]
  },
  {
   "cell_type": "markdown",
   "id": "a5b9cdd3",
   "metadata": {},
   "source": [
    "Khách hàng rời đi (màu cam) có xu hướng tập trung nhiều hơn ở vùng có phí hàng tháng cao hơn, đặc biệt là trong khoảng từ 60 đến 120. Khách hàng ở lại (màu xanh) phân bố đều hơn trên toàn bộ phạm vi phí hàng tháng, nhưng có vẻ chiếm ưu thế ở vùng phí thấp và trung bình. Tỷ lệ khách hàng rời đi có vẻ tăng lên khi phí hàng tháng tăng, thể hiện qua mật độ điểm màu cam cao hơn ở phía phải đồ thị."
   ]
  },
  {
   "cell_type": "code",
   "execution_count": null,
   "id": "bb9f8e6f",
   "metadata": {},
   "outputs": [],
   "source": [
    "# scatter plot of tenure vs. total charges\n",
    "plt.figure(figsize=(10, 10))\n",
    "sns.scatterplot(data=train_df, x='Tenure in Months', y='Total Charges', hue='Customer Status')"
   ]
  },
  {
   "cell_type": "markdown",
   "id": "0e6b8b72",
   "metadata": {},
   "source": [
    "Khách hàng ở lại (màu xanh) có xu hướng phân bố rộng hơn trên toàn bộ biểu đồ, cho thấy sự đa dạng trong thời gian gắn bó và tổng chi phí. Ngược lại, khách hàng rời đi (màu cam) tập trung nhiều hơn ở vùng có thời gian gắn bó ngắn hơn và tổng chi phí thấp hơn. Đáng chú ý là có một số nhóm điểm dữ liệu song song, cho thấy có thể có các gói dịch vụ hoặc mức giá khác nhau. Nhìn chung, khách hàng có thời gian gắn bó càng lâu thì tổng chi phí càng cao, nhưng nguy cơ rời đi có vẻ cao hơn trong giai đoạn đầu của dịch vụ."
   ]
  },
  {
   "cell_type": "code",
   "execution_count": null,
   "id": "0fda7d04",
   "metadata": {},
   "outputs": [],
   "source": [
    "# boxplot of customer status vs. tenure\n",
    "plt.figure(figsize=(10, 10))\n",
    "sns.catplot(data=train_df, x='Customer Status', y='Tenure in Months', kind='box')"
   ]
  },
  {
   "cell_type": "markdown",
   "id": "26c211b9",
   "metadata": {},
   "source": [
    "Khách hàng ở lại có thời gian gắn bó trung bình cao hơn (khoảng 37 tháng) và phạm vi rộng hơn (từ 15 đến 60 tháng). Ngược lại, khách hàng rời đi có thời gian gắn bó trung bình ngắn hơn nhiều (khoảng 10 tháng) và tập trung chủ yếu trong khoảng 3 đến 30 tháng. Điều này cho thấy khách hàng có khả năng rời đi cao nhất trong những tháng đầu. Tuy nhiên, vẫn có một số khách hàng rời đi sau thời gian dài gắn bó (thể hiện qua các điểm ngoại lệ)."
   ]
  },
  {
   "cell_type": "code",
   "execution_count": null,
   "id": "9df3e5e6",
   "metadata": {},
   "outputs": [],
   "source": [
    "# barplot of gender vs count of customer status\n",
    "plt.figure(figsize=(10, 10))\n",
    "sns.catplot(data=train_df, x='Gender', hue='Customer Status', kind='count')"
   ]
  },
  {
   "cell_type": "markdown",
   "id": "3077dc1d",
   "metadata": {},
   "source": [
    "Số lượng khách hàng nam và nữ khá cân bằng, với nam giới có chút ít nhiều hơn. Tỷ lệ khách hàng rời đi so với ở lại cũng tương đối đồng đều giữa hai giới."
   ]
  },
  {
   "cell_type": "code",
   "execution_count": null,
   "id": "2426b8f7",
   "metadata": {},
   "outputs": [],
   "source": [
    "# barplot of married vs count of customer status\n",
    "plt.figure(figsize=(10, 10))\n",
    "sns.catplot(data=train_df, x='Married', hue='Customer Status', kind='count')"
   ]
  },
  {
   "cell_type": "markdown",
   "id": "3acd7829",
   "metadata": {},
   "source": [
    "Đối với khách hàng đã kết hôn, số lượng khách hàng ở lại (màu xanh) cao hơn đáng kể so với khách hàng rời đi (màu cam). Tuy nhiên, đối với khách hàng chưa kết hôn, sự chênh lệch này ít rõ rệt hơn, với tỷ lệ khách hàng rời đi cao hơn. Điều này gợi ý rằng khách hàng đã kết hôn có xu hướng trung thành hơn với dịch vụ. "
   ]
  },
  {
   "cell_type": "code",
   "execution_count": null,
   "id": "22f6bdcb",
   "metadata": {},
   "outputs": [],
   "source": [
    "# barplot of contact vs count of customer status\n",
    "plt.figure(figsize=(10, 10))\n",
    "sns.catplot(data=train_df, x='Contract', hue='Customer Status', kind='count')"
   ]
  },
  {
   "cell_type": "markdown",
   "id": "09be4c4c",
   "metadata": {},
   "source": [
    "Đối với hợp đồng Month-to-Month, tỷ lệ khách hàng rời đi (màu cam) cao nhất và gần bằng số khách hàng ở lại (màu xanh), cho thấy đây là nhóm có nguy cơ mất khách hàng cao nhất. Ngược lại, hợp đồng One Year và Two Year có tỷ lệ khách hàng ở lại rất cao, đặc biệt là Two Year gần như không có khách hàng rời đi. Điều này chỉ ra rằng các hợp đồng dài hạn hiệu quả hơn trong việc giữ chân khách hàng."
   ]
  },
  {
   "cell_type": "code",
   "execution_count": null,
   "id": "01bb0ceb",
   "metadata": {},
   "outputs": [],
   "source": [
    "# barplot of offer vs count of customer status\n",
    "plt.figure(figsize=(10, 10))\n",
    "sns.catplot(data=train_df, x='Offer', hue='Customer Status', kind='count')"
   ]
  },
  {
   "cell_type": "markdown",
   "id": "eb4f328e",
   "metadata": {},
   "source": [
    "Biểu đồ cột này so sánh số lượng khách hàng theo các loại ưu đãi (Offer) khác nhau. Offer B có số lượng khách hàng ở lại (màu xanh) cao nhất và tỷ lệ khách hàng rời đi thấp, cho thấy đây là ưu đãi hiệu quả nhất trong việc giữ chân khách hàng. Ngược lại, Offer E có số lượng khách hàng rời đi (màu cam) cao hơn số khách hàng ở lại, chỉ ra rằng đây là ưu đãi kém hiệu quả nhất. Offer A, C và D có tỷ lệ giữ chân khách hàng tốt, với số lượng khách hàng ở lại vượt trội so với số rời đi"
   ]
  },
  {
   "cell_type": "markdown",
   "id": "b71f8fbf",
   "metadata": {},
   "source": [
    "## 4. Xử lý dữ liệu"
   ]
  },
  {
   "cell_type": "markdown",
   "id": "0bcebb99",
   "metadata": {},
   "source": [
    "### Xử lý thuộc tính địa lý"
   ]
  },
  {
   "cell_type": "markdown",
   "id": "26106ace",
   "metadata": {},
   "source": [
    "Nỗi bảng train với bảng dữ liệu về zip code và mật độ dân số"
   ]
  },
  {
   "cell_type": "code",
   "execution_count": null,
   "id": "dc834439",
   "metadata": {},
   "outputs": [],
   "source": [
    "def merge_zipcode(df):\n",
    "    df['Zip Code'] = df['Zip Code'].astype(str)\n",
    "    zip_df['zip'] = zip_df['zip'].astype(str)\n",
    "\n",
    "    df_merged = pd.merge(df, zip_df, left_on='Zip Code', right_on='zip', how='left')\n",
    "\n",
    "    unmatched = df_merged[df_merged['density'].isna()]\n",
    "    print(f\"Number of unmatched Zip codes: {len(unmatched)}\")\n",
    "    return df_merged"
   ]
  },
  {
   "cell_type": "code",
   "execution_count": null,
   "id": "85628f4a",
   "metadata": {},
   "outputs": [],
   "source": [
    "# Concatenate geographical data -> population density\n",
    "train_df = merge_zipcode(train_df)\n",
    "test_df = merge_zipcode(test_df)"
   ]
  },
  {
   "cell_type": "markdown",
   "id": "dcf68468",
   "metadata": {},
   "source": [
    "### Xử lý dữ liệu bị thiếu"
   ]
  },
  {
   "cell_type": "code",
   "execution_count": null,
   "id": "eee895fc",
   "metadata": {},
   "outputs": [],
   "source": [
    "train_df.isnull().sum().sort_values(ascending=False)"
   ]
  },
  {
   "cell_type": "code",
   "execution_count": null,
   "id": "8ecde17e",
   "metadata": {},
   "outputs": [],
   "source": [
    "def process_missing_value(df):\n",
    "    # process avg monthly long distance charges and multiple lines\n",
    "    df['Avg Monthly Long Distance Charges'] = df['Avg Monthly Long Distance Charges'].fillna(0)\n",
    "    df['Multiple Lines'] = df['Multiple Lines'].fillna(\"No\")\n",
    "    \n",
    "    # process Internet service\n",
    "    service_cols = ['Online Security', 'Online Backup', 'Device Protection Plan', 'Premium Tech Support', 'Streaming TV', 'Streaming Movies', 'Streaming Music', 'Unlimited Data']\n",
    "    df[service_cols] = df[service_cols].fillna(\"No\")\n",
    "    df['Avg Monthly GB Download'] = df['Avg Monthly GB Download'].fillna(0)\n",
    "\n",
    "    # Create 'No Offer' category (high absence percentage suggests that absence might be meaningful)\n",
    "    df['Offer'] = df['Offer'].fillna('No Offer')\n",
    "\n",
    "    df['density'] = df['density'].fillna(df['density'].median())"
   ]
  },
  {
   "cell_type": "code",
   "execution_count": null,
   "id": "cbb1f9e6",
   "metadata": {},
   "outputs": [],
   "source": [
    "process_missing_value(train_df)\n",
    "process_missing_value(test_df)"
   ]
  },
  {
   "cell_type": "code",
   "execution_count": null,
   "id": "41e067b1",
   "metadata": {},
   "outputs": [],
   "source": [
    "train_df.isnull().sum().sort_values(ascending=False)"
   ]
  },
  {
   "cell_type": "markdown",
   "id": "4227e754",
   "metadata": {},
   "source": [
    "### Hợp nhất các thuộc tính về dịch vụ Internet"
   ]
  },
  {
   "cell_type": "code",
   "execution_count": null,
   "id": "c8b92ca4",
   "metadata": {},
   "outputs": [],
   "source": [
    "internet_service = [\n",
    "    'Online Security',\n",
    "    'Online Backup',\n",
    "    'Device Protection Plan',\n",
    "    'Premium Tech Support',\n",
    "    'Streaming TV',\n",
    "    'Streaming Movies',\n",
    "    'Streaming Music',\n",
    "    'Unlimited Data'\n",
    "]"
   ]
  },
  {
   "cell_type": "code",
   "execution_count": null,
   "id": "d04d1b68",
   "metadata": {},
   "outputs": [],
   "source": [
    "def count_services(row):\n",
    "    return sum(row[service] == 'Yes' for service in internet_service)"
   ]
  },
  {
   "cell_type": "code",
   "execution_count": null,
   "id": "8c542083",
   "metadata": {},
   "outputs": [],
   "source": [
    "train_df['Number of Services'] = train_df.apply(count_services, axis=1)\n",
    "test_df['Number of Services'] = test_df.apply(count_services, axis=1)"
   ]
  },
  {
   "cell_type": "markdown",
   "id": "8cc592be",
   "metadata": {},
   "source": [
    "### Bỏ đi những thuộc tính thừa"
   ]
  },
  {
   "cell_type": "code",
   "execution_count": null,
   "id": "bfc66540",
   "metadata": {},
   "outputs": [],
   "source": [
    "def remove_unwanted_columns(df):\n",
    "    unwanted_cols = ['Customer ID', 'Zip Code', 'City', 'Latitude', 'Longitude', 'Customer Status', 'Churn Reason', 'Churn Category', 'zip']\n",
    "    # concatenate internet services\n",
    "    for service in internet_service:\n",
    "        unwanted_cols.append(service)\n",
    "    return df.drop(columns=unwanted_cols)\n"
   ]
  },
  {
   "cell_type": "code",
   "execution_count": null,
   "id": "29c1b3e0",
   "metadata": {},
   "outputs": [],
   "source": [
    "x_train_raw = remove_unwanted_columns(train_df)\n",
    "y_train = train_df['Customer Status']\n",
    "\n",
    "x_test_raw = remove_unwanted_columns(test_df)\n",
    "y_test = test_df['Customer Status']"
   ]
  },
  {
   "cell_type": "code",
   "execution_count": null,
   "id": "c04f7cad",
   "metadata": {},
   "outputs": [],
   "source": [
    "print('training shape', x_train_raw.shape)\n",
    "print('test shape', x_test_raw.shape)"
   ]
  },
  {
   "cell_type": "code",
   "execution_count": null,
   "id": "72bd2f76",
   "metadata": {},
   "outputs": [],
   "source": [
    "for att in x_train_raw.columns:\n",
    "    print(att, x_train_raw[att].unique())"
   ]
  },
  {
   "cell_type": "markdown",
   "id": "4357a81f",
   "metadata": {},
   "source": [
    "### Thuộc tính phân loại nhị phân"
   ]
  },
  {
   "cell_type": "code",
   "execution_count": null,
   "id": "42d8cebc",
   "metadata": {},
   "outputs": [],
   "source": [
    "def is_binary_attribute(series):\n",
    "    unique_values = series.dropna().unique()\n",
    "    return unique_values.size == 2"
   ]
  },
  {
   "cell_type": "code",
   "execution_count": null,
   "id": "dbafc376",
   "metadata": {},
   "outputs": [],
   "source": [
    "binary_attributes = [col for col in x_train_raw.columns if is_binary_attribute(train_df[col])]\n",
    "binary_attributes"
   ]
  },
  {
   "cell_type": "code",
   "execution_count": null,
   "id": "471b3731",
   "metadata": {},
   "outputs": [],
   "source": [
    "label_encoder = LabelEncoder()\n",
    "\n",
    "for col in binary_attributes:\n",
    "    x_train_raw[col] = label_encoder.fit_transform(x_train_raw[col])\n",
    "    x_test_raw[col] = label_encoder.fit_transform(x_test_raw[col])"
   ]
  },
  {
   "cell_type": "code",
   "execution_count": null,
   "id": "11669363",
   "metadata": {},
   "outputs": [],
   "source": [
    "x_train_raw[binary_attributes].head()"
   ]
  },
  {
   "cell_type": "markdown",
   "id": "f7da5913",
   "metadata": {},
   "source": [
    "### Thuộc tính phân loại (> 2 giá trị)"
   ]
  },
  {
   "cell_type": "code",
   "execution_count": null,
   "id": "e4ee3610",
   "metadata": {},
   "outputs": [],
   "source": [
    "columns_to_onehot = ['Offer', 'Internet Type', 'Contract', 'Payment Method']#, 'Location Type']"
   ]
  },
  {
   "cell_type": "code",
   "execution_count": null,
   "id": "8b5bc863",
   "metadata": {},
   "outputs": [],
   "source": [
    "def encode_categorical_feature(df, columns):\n",
    "    ohe = OneHotEncoder(sparse_output=False)\n",
    "    encoded_cols = ohe.fit_transform(df[columns])\n",
    "    new_cols_name = ohe.get_feature_names_out(columns)\n",
    "    encoded_df = pd.DataFrame(encoded_cols, columns=new_cols_name, index=df.index)\n",
    "    df = pd.concat([df.drop(columns=columns, axis=1), encoded_df], axis=1)\n",
    "    return df"
   ]
  },
  {
   "cell_type": "code",
   "execution_count": null,
   "id": "c1be3e4d",
   "metadata": {},
   "outputs": [],
   "source": [
    "x_train_raw = encode_categorical_feature(x_train_raw, columns_to_onehot)\n",
    "x_test_raw = encode_categorical_feature(x_test_raw, columns_to_onehot)"
   ]
  },
  {
   "cell_type": "code",
   "execution_count": null,
   "id": "c615ec6e",
   "metadata": {},
   "outputs": [],
   "source": [
    "x_train_raw.head()"
   ]
  },
  {
   "cell_type": "markdown",
   "id": "6f250219",
   "metadata": {},
   "source": [
    "### Thuộc tính số nguyên"
   ]
  },
  {
   "cell_type": "code",
   "execution_count": null,
   "id": "66d4e1da",
   "metadata": {},
   "outputs": [],
   "source": [
    "scaler = MinMaxScaler(feature_range=(0, 1))\n",
    "\n",
    "integral_attribute = ['Age', 'Number of Dependents', 'Number of Referrals', 'Tenure in Months', 'density', 'Number of Services']\n",
    "\n",
    "x_train_raw[integral_attribute] = scaler.fit_transform(x_train_raw[integral_attribute])\n",
    "x_test_raw[integral_attribute] = scaler.fit_transform(x_test_raw[integral_attribute])"
   ]
  },
  {
   "cell_type": "code",
   "execution_count": null,
   "id": "14d27cc9",
   "metadata": {},
   "outputs": [],
   "source": [
    "x_train_raw[integral_attribute].head()"
   ]
  },
  {
   "cell_type": "markdown",
   "id": "b6d1ee8c",
   "metadata": {},
   "source": [
    "### Thuộc tính số thực"
   ]
  },
  {
   "cell_type": "code",
   "execution_count": null,
   "id": "f28261b2",
   "metadata": {},
   "outputs": [],
   "source": [
    "float_attribute = ['Avg Monthly Long Distance Charges', 'Avg Monthly GB Download', 'Monthly Charge', 'Total Charges', 'Total Refunds','Total Extra Data Charges', 'Total Long Distance Charges', 'Total Revenue']\n",
    "\n",
    "scaler = MinMaxScaler(feature_range=(0, 1))\n",
    "\n",
    "train_df[float_attribute] = scaler.fit_transform(train_df[float_attribute])\n",
    "test_df[float_attribute] = scaler.fit_transform(test_df[float_attribute])"
   ]
  },
  {
   "cell_type": "code",
   "execution_count": null,
   "id": "32ad307a",
   "metadata": {},
   "outputs": [],
   "source": [
    "train_df[float_attribute].head()"
   ]
  },
  {
   "cell_type": "markdown",
   "id": "4b765bf6",
   "metadata": {},
   "source": [
    "### SMOTE"
   ]
  },
  {
   "cell_type": "markdown",
   "id": "39fe57ef",
   "metadata": {},
   "source": [
    "Do số lượng khách hàng rời đi trong tập train rất ít sơ với khách hàng ở lại nên ta sẽ dùng SMOTE để có thể cân bằng số lượng rời đi và ở lại trong tập train, điều này giúp các mô hình ở phần sau có thêm data và do đó hiệu suất có thể được nâng cao hơn"
   ]
  },
  {
   "cell_type": "code",
   "execution_count": null,
   "id": "14793bc1",
   "metadata": {},
   "outputs": [],
   "source": [
    "smote = SMOTE(random_state=42)\n",
    "x_train_raw_balanced, y_train_balanced = smote.fit_resample(x_train_raw, y_train)\n",
    "\n",
    "print(\"Before SMOTE: \", y_train.value_counts())\n",
    "print(\"After SMOTE: \", y_train_balanced.value_counts())"
   ]
  },
  {
   "cell_type": "markdown",
   "id": "4232e56d",
   "metadata": {},
   "source": [
    "## 6. Lựa chọn thuộc tính"
   ]
  },
  {
   "cell_type": "code",
   "execution_count": null,
   "id": "c2cff3a1",
   "metadata": {},
   "outputs": [],
   "source": [
    "x_train_raw.columns\n",
    "print(x_train_raw.columns)"
   ]
  },
  {
   "cell_type": "code",
   "execution_count": null,
   "id": "60bbd84c",
   "metadata": {},
   "outputs": [],
   "source": [
    "def plot_feature_importance(importance, names, model_type):\n",
    "    #Create arrays from feature importance and feature names\n",
    "    feature_importance = np.array(importance)\n",
    "    feature_names = np.array(names)\n",
    "\n",
    "    #Create a DataFrame using a Dictionary\n",
    "    data={'feature_names': feature_names, 'feature_importance': feature_importance}\n",
    "    fi_df = pd.DataFrame(data)\n",
    "\n",
    "    #Sort the DataFrame in order decreasing feature importance\n",
    "    fi_df.sort_values(by=['feature_importance'], ascending=False, inplace=True)\n",
    "\n",
    "    #Define size of bar plot\n",
    "    plt.figure(figsize=(10, 20))\n",
    "    #Plot Searborn bar chart\n",
    "    sns.barplot(x=fi_df['feature_importance'], y=fi_df['feature_names'])\n",
    "    #Add chart labels\n",
    "    plt.title(model_type + ' FEATURE IMPORTANCE')\n",
    "    plt.xlabel('FEATURE IMPORTANCE')\n",
    "    plt.ylabel('FEATURE NAMES')"
   ]
  },
  {
   "cell_type": "markdown",
   "id": "a8f47248",
   "metadata": {},
   "source": [
    "### Correlation"
   ]
  },
  {
   "cell_type": "code",
   "execution_count": null,
   "id": "438cc511",
   "metadata": {},
   "outputs": [],
   "source": [
    "def get_corr_features(df):\n",
    "    \"\"\"\n",
    "    Get features with correlation > 0.1\n",
    "    :param df: dataframe with numeric features\n",
    "    :return:\n",
    "    \"\"\"\n",
    "    corr_feat = list(df.corr()[abs(df.corr()['Customer Status']) > 0.1].index)\n",
    "    corr_feat.remove('Customer Status')\n",
    "    return corr_feat"
   ]
  },
  {
   "cell_type": "code",
   "execution_count": null,
   "id": "f005c609",
   "metadata": {},
   "outputs": [],
   "source": [
    "train_numeric = pd.concat([x_train_raw, y_train], axis=1)\n",
    "corr_feat = get_corr_features(train_numeric)"
   ]
  },
  {
   "cell_type": "code",
   "execution_count": null,
   "id": "0b9d9c98",
   "metadata": {},
   "outputs": [],
   "source": [
    "print(corr_feat)"
   ]
  },
  {
   "cell_type": "markdown",
   "id": "51a28470",
   "metadata": {},
   "source": [
    "### Annova"
   ]
  },
  {
   "cell_type": "code",
   "execution_count": null,
   "id": "73d102e7",
   "metadata": {},
   "outputs": [],
   "source": [
    "def get_annova_features(df):\n",
    "    \"\"\"\n",
    "    Get features with ANNOVA > 0.1\n",
    "    :param df: dataframe with numeric features\n",
    "    :return:\n",
    "    \"\"\"\n",
    "    annova_scores, _ = f_classif(np.abs(df.values), y_train)\n",
    "    annova_feats_score = list(zip(df.columns, annova_scores))\n",
    "    annova_feats_score.sort(key=lambda x: -x[1])\n",
    "    # choose top 20 features\n",
    "    annova_feats = [i[0] for i in annova_feats_score[:20]]\n",
    "    annova_feats.remove('Customer Status')\n",
    "    plot_feature_importance(\n",
    "        [i[1] for i in annova_feats_score],\n",
    "        [i[0] for i in annova_feats_score],\n",
    "        'Annova'\n",
    "    )\n",
    "    return annova_feats"
   ]
  },
  {
   "cell_type": "code",
   "execution_count": null,
   "id": "c51ce28e",
   "metadata": {},
   "outputs": [],
   "source": [
    "annova_feats = get_annova_features(train_numeric)"
   ]
  },
  {
   "cell_type": "markdown",
   "id": "926d8633",
   "metadata": {},
   "source": [
    "### Phương pháp sử dụng mô hình"
   ]
  },
  {
   "cell_type": "code",
   "execution_count": null,
   "id": "07221ad1",
   "metadata": {},
   "outputs": [],
   "source": [
    "def get_lgbm_features(df):\n",
    "    model_fi = lgb.LGBMClassifier()\n",
    "    model_fi.fit(x_train_raw, y_train)\n",
    "    lgbm_scores = model_fi.feature_importances_\n",
    "\n",
    "    lgbm_feat_scores = list(zip(df.columns, lgbm_scores))\n",
    "    lgbm_feat_scores.sort(key=lambda x: -x[1])\n",
    "\n",
    "    # choose top 20 features\n",
    "    lgbm_feats = [i[0] for i in lgbm_feat_scores[:20]]\n",
    "\n",
    "    plot_feature_importance(\n",
    "        [i[1] for i in lgbm_feat_scores],\n",
    "        [i[0] for i in lgbm_feat_scores],\n",
    "        'LightGBM'\n",
    "    )\n",
    "\n",
    "    return lgbm_feats"
   ]
  },
  {
   "cell_type": "code",
   "execution_count": null,
   "id": "985908ca",
   "metadata": {},
   "outputs": [],
   "source": [
    "lgbm_feats = get_lgbm_features(train_numeric)"
   ]
  },
  {
   "cell_type": "markdown",
   "id": "f3f94a70",
   "metadata": {},
   "source": [
    "## 7. Mô hình phân lớp"
   ]
  },
  {
   "cell_type": "markdown",
   "id": "dc362234",
   "metadata": {},
   "source": [
    "### Hàm đánh giá kết quả"
   ]
  },
  {
   "cell_type": "code",
   "execution_count": null,
   "id": "819d0e96",
   "metadata": {},
   "outputs": [],
   "source": [
    "# Evaluate model accuracy\n",
    "def evaluate(model, x_test, y_test):\n",
    "    pred = model.predict(x_test)\n",
    "    acc = accuracy_score(y_test, pred)\n",
    "    print(\"ACC: \", acc)\n",
    "    print(classification_report(y_test,pred))\n",
    "\n",
    "\n",
    "# Visualize confusion matrix\n",
    "def visualize_result(model, x_test, y_test):\n",
    "    y_pred = model.predict(x_test)\n",
    "    sns.heatmap(confusion_matrix(y_test,y_pred),cmap='Blues',annot=True,linewidths=2,linecolor='white')"
   ]
  },
  {
   "cell_type": "markdown",
   "id": "7311f83f",
   "metadata": {},
   "source": [
    "### Sử dụng toàn bộ feature"
   ]
  },
  {
   "cell_type": "code",
   "execution_count": null,
   "id": "fd80aad7",
   "metadata": {},
   "outputs": [],
   "source": [
    "# Scaling data using standard scaler\n",
    "\n",
    "scaler = StandardScaler()\n",
    "scaler.fit(x_train_raw_balanced)\n",
    "x_train_scaled = scaler.transform(x_train_raw_balanced)\n",
    "x_test_scaled = scaler.transform(x_test_raw)\n",
    "\n",
    "print('training shape: ', x_train_scaled.shape)\n",
    "print('testing shape: ', x_test_scaled.shape)"
   ]
  },
  {
   "cell_type": "markdown",
   "id": "f79c564f",
   "metadata": {},
   "source": [
    "### Decision Tree"
   ]
  },
  {
   "cell_type": "code",
   "execution_count": null,
   "id": "7e8ce1e0",
   "metadata": {},
   "outputs": [],
   "source": [
    "def find_max_depth(x_train, y_train, x_test, y_test):\n",
    "    min_err_rate = 1\n",
    "    res = 0\n",
    "    for i in range(5, 20):\n",
    "        tree = DecisionTreeClassifier(max_depth=i)\n",
    "        tree.fit(x_train, y_train)\n",
    "        pred_i = tree.predict(x_test)\n",
    "        err_rate = np.mean((pred_i != y_test) & (y_test == 1))\n",
    "        if err_rate < min_err_rate:\n",
    "            min_err_rate = err_rate\n",
    "            res = i\n",
    "    \n",
    "    print(f\"min error rate: {min_err_rate} with depth: {res}\")\n",
    "    return res"
   ]
  },
  {
   "cell_type": "code",
   "execution_count": null,
   "id": "01bc6d3d",
   "metadata": {},
   "outputs": [],
   "source": [
    "def decision_tree_classifier(x_train, y_train, x_test, y_test):\n",
    "    depth = find_max_depth(x_train, y_train, x_test, y_test)\n",
    "    tree = DecisionTreeClassifier(max_depth=depth, criterion='log_loss')\n",
    "    tree.fit(x_train, y_train)\n",
    "    evaluate(tree, x_test, y_test)\n",
    "    visualize_result(tree, x_test, y_test)"
   ]
  },
  {
   "cell_type": "code",
   "execution_count": null,
   "id": "13b709d2",
   "metadata": {},
   "outputs": [],
   "source": [
    "decision_tree_classifier(x_train_scaled, y_train_balanced, x_test_scaled, y_test)"
   ]
  },
  {
   "cell_type": "markdown",
   "id": "cbbee51a",
   "metadata": {},
   "source": [
    "Kết quả của mô hình Decision Tree Classifier cho thấy một hiệu suất tổng thể khá tốt với độ chính xác 80.36%. Tuy nhiên, khi xem xét kỹ hơn, ta thấy có sự chênh lệch đáng kể giữa hiệu suất của hai lớp. Lớp 0 có hiệu suất tốt với precision, recall và f1-score đều trên 0.82, trong khi lớp thiểu số (lớp 1) có hiệu suất thấp hơn đáng kể, đặc biệt là về precision (0.58). Điều này phản ánh một trong những hạn chế của Decision Tree khi đối mặt với dữ liệu không cân bằng. Cây quyết định có xu hướng ưu tiên các đặc trưng phổ biến, dẫn đến việc dự đoán tốt hơn cho lớp đa số nhưng kém chính xác hơn cho lớp thiểu số. Tuy nhiên, điểm đáng chú ý là recall của lớp thiểu số (0.77) vẫn ở mức khá, cho thấy mô hình có khả năng nhận diện được phần lớn các mẫu thuộc lớp này. Sự chênh lệch giữa precision và recall của lớp thiểu số gợi ý rằng mô hình có xu hướng phân loại nhiều mẫu vào lớp thiểu số, dẫn đến tỷ lệ dương tính giả cao. Nguyên nhân có thể là do overfitting, thiếu tinh chỉnh hyperparameter."
   ]
  },
  {
   "cell_type": "markdown",
   "id": "64ea89e6",
   "metadata": {},
   "source": [
    "### KNN"
   ]
  },
  {
   "cell_type": "code",
   "execution_count": null,
   "id": "fa73a294",
   "metadata": {},
   "outputs": [],
   "source": [
    "def find_k_neighbors(x_train, y_train, x_test, y_test):\n",
    "    res = 0\n",
    "    min_err = 1\n",
    "    for i in range(1, 50):\n",
    "        knn = KNeighborsClassifier(n_neighbors=i)\n",
    "        knn.fit(x_train, y_train)\n",
    "        pred_i = knn.predict(x_test)\n",
    "        err_rate = np.mean((pred_i != y_test) & (y_test == 1))\n",
    "        if err_rate < min_err:\n",
    "            min_err = err_rate\n",
    "            res = i\n",
    "            \n",
    "    print('k =', res, 'error rate =', min_err)\n",
    "    return res"
   ]
  },
  {
   "cell_type": "code",
   "execution_count": null,
   "id": "1bd93874",
   "metadata": {},
   "outputs": [],
   "source": [
    "def knn_classifier(x_train, y_train, x_test, y_test):\n",
    "    k = find_k_neighbors(x_train, y_train, x_test, y_test)\n",
    "    knn = KNeighborsClassifier(n_neighbors=k)\n",
    "    knn.fit(x_train, y_train)\n",
    "    evaluate(knn, x_test, y_test)\n",
    "    visualize_result(knn, x_test, y_test)"
   ]
  },
  {
   "cell_type": "code",
   "execution_count": null,
   "id": "f0a9a9f8",
   "metadata": {},
   "outputs": [],
   "source": [
    "knn_classifier(x_train_scaled, y_train_balanced, x_test_scaled, y_test)"
   ]
  },
  {
   "cell_type": "markdown",
   "id": "e8d2a4d9",
   "metadata": {},
   "source": [
    "Kết quả của mô hình KNN cho thấy một độ chính xác tổng thể ở mức trung bình với 74.66%. Điều đáng chú ý là sự khác biệt rõ rệt giữa hiệu suất của hai lớp. Lớp đa số (lớp 0) có precision rất cao (0.95) nhưng recall thấp hơn (0.70), trong khi lớp thiểu số (lớp 1) có xu hướng ngược lại với recall cao (0.89) nhưng precision thấp (0.50). Điều này cho thấy mô hình KNN có xu hướng phân loại nhiều mẫu vào lớp thiểu số, dẫn đến tỷ lệ dương tính giả cao cho lớp này. Đặc điểm này của KNN có thể là do việc chọn k = 45, một giá trị khá lớn so với kích thước của lớp thiểu số (387 mẫu). Với k lớn, mô hình có xu hướng ưu tiên lớp đa số trong không gian đặc trưng, nhưng đồng thời cũng \"bắt\" được nhiều mẫu thuộc lớp thiểu số. Điều này giải thích cho recall cao của lớp thiểu số nhưng precision thấp. Ngược lại, lớp đa số có precision cao nhưng recall thấp hơn, cho thấy khi mô hình dự đoán một mẫu thuộc lớp đa số, nó thường chính xác, nhưng có nhiều mẫu thực sự thuộc lớp đa số bị phân loại nhầm sang lớp thiểu số."
   ]
  },
  {
   "cell_type": "markdown",
   "id": "574fea5b",
   "metadata": {},
   "source": [
    "### SVM"
   ]
  },
  {
   "cell_type": "code",
   "execution_count": null,
   "id": "13a3a582",
   "metadata": {},
   "outputs": [],
   "source": [
    "def choose_C(x_train, y_train, x_test, y_test):\n",
    "    min_err_rate = 1\n",
    "    res = 0\n",
    "    for i in range(1, 10):\n",
    "        svc = SVC(C=i, gamma='auto', kernel='rbf')\n",
    "        svc.fit(x_train, y_train)\n",
    "        pred_i = svc.predict(x_test)\n",
    "        err_rate = np.mean((pred_i != y_test) & (y_test == 1))\n",
    "        if err_rate < min_err_rate:\n",
    "            min_err_rate = err_rate\n",
    "            res = i\n",
    "\n",
    "    print(f\"min error rate: {min_err_rate} with C: {res}\")\n",
    "    return res"
   ]
  },
  {
   "cell_type": "code",
   "execution_count": null,
   "id": "9b49412f",
   "metadata": {},
   "outputs": [],
   "source": [
    "def SVC_classifier(x_train, y_train, x_test, y_test):\n",
    "    c = choose_C(x_train, y_train, x_test, y_test)\n",
    "    sup = SVC(C = c, gamma = 'auto', kernel = 'rbf')\n",
    "    sup.fit(x_train, y_train)\n",
    "    evaluate(sup, x_test, y_test)\n",
    "    visualize_result(sup, x_test, y_test)"
   ]
  },
  {
   "cell_type": "code",
   "execution_count": null,
   "id": "f4714901",
   "metadata": {},
   "outputs": [],
   "source": [
    "SVC_classifier(x_train_scaled, y_train_balanced, x_test_scaled, y_test)"
   ]
  },
  {
   "cell_type": "markdown",
   "id": "30de5493",
   "metadata": {},
   "source": [
    "Kết quả của mô hình SVC cho thấy một hiệu suất tổng thể khá tốt với độ chính xác 82.76%. Đây là một cải thiện đáng kể so với mô hình KNN trước đó và cũng nhỉnh hơn một chút so với Decision Tree. Khi xem xét chi tiết, ta thấy có sự chênh lệch giữa hiệu suất của hai lớp, nhưng không quá lớn như trong trường hợp của KNN. Lớp đa số (lớp 0) có precision rất cao (0.92) và recall khá tốt (0.84), cho thấy mô hình rất hiệu quả trong việc nhận diện và phân loại chính xác các mẫu thuộc lớp này. Đối với lớp thiểu số (lớp 1), mô hình đạt được recall khá cao (0.78), cao hơn so với Decision Tree, nhưng precision vẫn ở mức thấp (0.62), tương tự như Decision Tree. Điều này cho thấy SVC có khả năng phát hiện tốt các mẫu thuộc lớp thiểu số, nhưng vẫn có xu hướng phân loại nhầm một số mẫu của lớp đa số vào lớp thiểu số. Sự cân bằng tốt hơn giữa precision và recall của cả hai lớp đã dẫn đến f1-score cao hơn so với các mô hình trước đó, đặc biệt là đối với lớp thiểu số (0.69). Điều này phản ánh một trong những ưu điểm của SVC trong việc xử lý dữ liệu không cân bằng, có thể là nhờ khả năng tạo ra một đường biên quyết định phức tạp và linh hoạt trong không gian đặc trưng."
   ]
  },
  {
   "cell_type": "markdown",
   "id": "eb1f07c7",
   "metadata": {},
   "source": [
    "### Logistic Regression"
   ]
  },
  {
   "cell_type": "code",
   "execution_count": null,
   "id": "1e68db5f",
   "metadata": {},
   "outputs": [],
   "source": [
    "def logistic_regression(x_train, y_train, x_test, y_test):\n",
    "    logr = LogisticRegression(C=1, max_iter=200, solver='liblinear')\n",
    "    logr.fit(x_train, y_train)\n",
    "    evaluate(logr, x_test, y_test)\n",
    "    visualize_result(logr, x_test, y_test)"
   ]
  },
  {
   "cell_type": "code",
   "execution_count": null,
   "id": "984b49d0",
   "metadata": {},
   "outputs": [],
   "source": [
    "logistic_regression(x_train_scaled, y_train_balanced, x_test_scaled, y_test)"
   ]
  },
  {
   "cell_type": "markdown",
   "id": "fc2a9421",
   "metadata": {},
   "source": [
    "Kết quả của mô hình Hồi quy Logistic cho thấy một hiệu suất tổng thể khá tốt với độ chính xác 80.23%. Mặc dù không cao bằng SVC, nhưng vẫn tốt hơn KNN và gần với Decision Tree. Khi xem xét chi tiết, ta thấy có sự khác biệt đáng kể giữa hiệu suất của hai lớp. Lớp đa số (lớp 0) có precision rất cao (0.94), cao nhất trong số các mô hình đã xem xét, nhưng recall thấp hơn (0.78). Điều này cho thấy khi mô hình dự đoán một mẫu thuộc lớp 0, nó rất có khả năng chính xác, nhưng mô hình cũng bỏ sót một số mẫu thực sự thuộc lớp này. Đối với lớp thiểu số (lớp 1), ta thấy một xu hướng ngược lại: recall cao (0.86), thậm chí cao nhất trong số các mô hình đã xem xét, nhưng precision thấp (0.57). Điều này ngụ ý rằng mô hình có khả năng phát hiện tốt các mẫu thuộc lớp thiểu số, nhưng cũng có xu hướng phân loại nhầm nhiều mẫu của lớp đa số vào lớp thiểu số. Sự chênh lệch lớn giữa precision và recall của cả hai lớp cho thấy mô hình Hồi quy Logistic đang gặp khó khăn trong việc cân bằng giữa hai lớp không cân bằng. Điều này có thể là do bản chất tuyến tính của mô hình Hồi quy Logistic, khiến nó khó tạo ra một đường biên quyết định phức tạp để phân tách tốt hai lớp trong không gian đặc trưng. Tuy nhiên, f1-score của lớp thiểu số (0.68) vẫn khá tốt, chỉ thấp hơn một chút so với SVC."
   ]
  },
  {
   "cell_type": "markdown",
   "id": "834b468b",
   "metadata": {},
   "source": [
    "### Random Forest Classifier"
   ]
  },
  {
   "cell_type": "code",
   "execution_count": null,
   "id": "df1a0098",
   "metadata": {},
   "outputs": [],
   "source": [
    "def find_n_estimators(x_train, y_train, x_test, y_test):\n",
    "    min_err_rate = 1\n",
    "    res = 0\n",
    "    for i in range(1, 20):\n",
    "        rfe = RandomForestClassifier(n_estimators=i*10) \n",
    "        rfe.fit(x_train, y_train) \n",
    "        errpred = rfe.predict(x_test) \n",
    "        err = np.mean((errpred != y_test) & (y_test == 1))\n",
    "        if err < min_err_rate:\n",
    "            min_err_rate = err\n",
    "            res = i*10\n",
    "            \n",
    "    print(f\"min error rate: {min_err_rate} with estimators: {res}\")\n",
    "    return res"
   ]
  },
  {
   "cell_type": "code",
   "execution_count": null,
   "id": "7c578693",
   "metadata": {},
   "outputs": [],
   "source": [
    "def random_forest_classifier(x_train, y_train, x_test, y_test):\n",
    "    estimators = find_n_estimators(x_train, y_train, x_test, y_test)\n",
    "    rfe = RandomForestClassifier(n_estimators=estimators, max_depth=10)\n",
    "    rfe.fit(x_train, y_train)\n",
    "    evaluate(rfe, x_test, y_test)\n",
    "    visualize_result(rfe, x_test, y_test)"
   ]
  },
  {
   "cell_type": "code",
   "execution_count": null,
   "id": "e1882dbf",
   "metadata": {},
   "outputs": [],
   "source": [
    "random_forest_classifier(x_train_scaled, y_train_balanced, x_test_scaled, y_test)"
   ]
  },
  {
   "cell_type": "markdown",
   "id": "4973f0e3",
   "metadata": {},
   "source": [
    "Kết quả của mô hình Random Forest cho thấy hiệu suất tổng thể rất tốt với độ chính xác 84.45%, cao nhất trong số các phương pháp đã xem xét. Điều này phản ánh một trong những ưu điểm chính của Random Forest - khả năng xử lý hiệu quả các bộ dữ liệu phức tạp và không cân bằng. Khi phân tích chi tiết, ta thấy có sự cân bằng tốt giữa hiệu suất của hai lớp, điều mà các phương pháp khác chưa đạt được.\n",
    "Đối với lớp đa số (lớp 0), mô hình đạt được cả precision (0.92) và recall (0.87) cao, dẫn đến f1-score rất tốt (0.89). Điều này cho thấy Random Forest rất hiệu quả trong việc nhận diện và phân loại chính xác các mẫu thuộc lớp đa số, với rất ít trường hợp bỏ sót hoặc phân loại sai.\n",
    "Đối với lớp thiểu số (lớp 1), mặc dù hiệu suất thấp hơn so với lớp đa số, nhưng vẫn đạt được sự cân bằng tốt giữa precision (0.67) và recall (0.76), dẫn đến f1-score khá cao (0.71). Đây là f1-score cao nhất cho lớp thiểu số trong số các phương pháp đã xem xét, cho thấy Random Forest xử lý tốt vấn đề không cân bằng dữ liệu.\n",
    "Sự cân bằng tốt giữa precision và recall của cả hai lớp phản ánh một trong những ưu điểm chính của Random Forest: khả năng tạo ra một tập hợp các cây quyết định đa dạng, giúp mô hình có thể nắm bắt được các mẫu phức tạp trong dữ liệu. Điều này đặc biệt hữu ích trong trường hợp dữ liệu không cân bằng, nơi một số cây có thể chuyên biệt hóa trong việc nhận diện các mẫu thuộc lớp thiểu số."
   ]
  },
  {
   "cell_type": "markdown",
   "id": "99149601",
   "metadata": {},
   "source": [
    "### Sử dụng feature tương quan cao"
   ]
  },
  {
   "cell_type": "code",
   "execution_count": null,
   "id": "cb99d5a9",
   "metadata": {},
   "outputs": [],
   "source": [
    "x_train_raw_feat = x_train_raw_balanced[corr_feat].copy(deep=True)\n",
    "x_test_raw_feat = x_test_raw[corr_feat].copy(deep=True)"
   ]
  },
  {
   "cell_type": "code",
   "execution_count": null,
   "id": "eb6eeb93",
   "metadata": {},
   "outputs": [],
   "source": [
    "scaler.fit(x_train_raw_feat)\n",
    "x_train_scaled = scaler.transform(x_train_raw_feat)\n",
    "x_test_scaled = scaler.transform(x_test_raw_feat)"
   ]
  },
  {
   "cell_type": "code",
   "execution_count": null,
   "id": "faa1348f",
   "metadata": {},
   "outputs": [],
   "source": [
    "random_forest_classifier(x_train_scaled, y_train_balanced, x_test_scaled, y_test)"
   ]
  },
  {
   "cell_type": "markdown",
   "id": "85e8f9fe",
   "metadata": {},
   "source": [
    "### Sử dụng feature anova"
   ]
  },
  {
   "cell_type": "code",
   "execution_count": null,
   "id": "ad2c8372",
   "metadata": {},
   "outputs": [],
   "source": [
    "x_train_raw_feat2 = x_train_raw_balanced[annova_feats].copy(deep=True)\n",
    "x_test_raw_feat2 = x_test_raw[annova_feats].copy(deep=True)"
   ]
  },
  {
   "cell_type": "code",
   "execution_count": null,
   "id": "351e43c8",
   "metadata": {},
   "outputs": [],
   "source": [
    "scaler.fit(x_train_raw_feat2)\n",
    "x_train_scaled = scaler.transform(x_train_raw_feat2)\n",
    "x_test_scaled = scaler.transform(x_test_raw_feat2)"
   ]
  },
  {
   "cell_type": "code",
   "execution_count": null,
   "id": "b8e87956",
   "metadata": {},
   "outputs": [],
   "source": [
    "random_forest_classifier(x_train_scaled, y_train_balanced, x_test_scaled, y_test)"
   ]
  },
  {
   "cell_type": "markdown",
   "id": "8906752d",
   "metadata": {},
   "source": [
    "### Sử dụng feature chọn từ mô hình"
   ]
  },
  {
   "cell_type": "code",
   "execution_count": null,
   "id": "db32811e",
   "metadata": {},
   "outputs": [],
   "source": [
    "x_train_raw_feat3 = x_train_raw_balanced[lgbm_feats].copy(deep=True)\n",
    "x_test_raw_feat3 = x_test_raw[lgbm_feats].copy(deep=True)\n",
    "\n",
    "scaler.fit(x_train_raw_feat3)\n",
    "x_train_scaled = scaler.transform(x_train_raw_feat3)\n",
    "x_test_scaled = scaler.transform(x_test_raw_feat3)"
   ]
  },
  {
   "cell_type": "code",
   "execution_count": null,
   "id": "ae2b4c3b",
   "metadata": {},
   "outputs": [],
   "source": [
    "random_forest_classifier(x_train_scaled, y_train_balanced, x_test_scaled, y_test)"
   ]
  },
  {
   "cell_type": "markdown",
   "id": "8a776467",
   "metadata": {},
   "source": [
    "Việc lựa chọn thuộc tính giúp giảm chiều dữ liệu và không làm thay đổi kết quả cuối cùng quá đáng kể.\n",
    "Việc sử dụng các biến tương quan mạnh với nhãn cho hiệu quả không quá cao, vì tương quan này chỉ là mối quan hệ giữa các thuộc tính và nhãn 1 cách độc lập (đơn biến). Điều này không hiệu quả vì thường kết hợp đa biến cho độ chính xác tốt hơn.\n",
    "Phương pháp anova và dùng mô hình cũng không thay đổi hiệu suất một cách đáng kể, điều này thể hiện các đặc trưng quan trọng đã được giữ lại, do đó không ảnh hưởng nhiều đến kết quả cuối cùng."
   ]
  },
  {
   "cell_type": "markdown",
   "id": "091242a6",
   "metadata": {},
   "source": [
    "# 8. Học sâu với mô hình mạng nơ-ron nhân tạo ANN(Artificial Neural Network)"
   ]
  },
  {
   "cell_type": "markdown",
   "id": "44d85c71",
   "metadata": {},
   "source": [
    "## Xây dựng mô hình"
   ]
  },
  {
   "cell_type": "code",
   "execution_count": null,
   "id": "b6f2c0f8",
   "metadata": {},
   "outputs": [],
   "source": [
    "# Xây dựng mô hình ANN\n",
    "model = Sequential()\n",
    "model.add(Input(shape=(x_train_scaled.shape[1],)))  # Xác định kích thước đầu vào\n",
    "model.add(Dense(64, activation='relu'))\n",
    "model.add(Dropout(0.5))\n",
    "model.add(Dense(32, activation='relu'))\n",
    "model.add(Dropout(0.5))\n",
    "model.add(Dense(1, activation='sigmoid'))\n",
    "\n",
    "# Compile mô hình\n",
    "model.compile(loss='binary_crossentropy', optimizer='adam', metrics=['accuracy'])"
   ]
  },
  {
   "cell_type": "markdown",
   "id": "035acf19",
   "metadata": {},
   "source": [
    "## Huấn luyện mô hình"
   ]
  },
  {
   "cell_type": "code",
   "execution_count": null,
   "id": "fad54ba3",
   "metadata": {},
   "outputs": [],
   "source": [
    "# Huấn luyện mô hình\n",
    "history = model.fit(x_train_scaled, y_train_balanced, epochs=50, batch_size=32, validation_data=(x_test_scaled, y_test))"
   ]
  },
  {
   "cell_type": "markdown",
   "id": "892df0d5",
   "metadata": {},
   "source": [
    "## Đánh giá mô hình"
   ]
  },
  {
   "cell_type": "code",
   "execution_count": null,
   "id": "748e8c09",
   "metadata": {},
   "outputs": [],
   "source": [
    "# Đánh giá mô hình trên tập kiểm tra\n",
    "loss, accuracy = model.evaluate(x_test_scaled, y_test)\n",
    "print(f'Validation Accuracy: {accuracy*100:.2f}%')\n",
    "\n",
    "# Dự đoán trên dữ liệu kiểm tra\n",
    "predictions = model.predict(x_test_scaled)\n",
    "predicted_classes = (predictions > 0.5).astype(\"int32\")\n",
    "\n",
    "acc = accuracy_score(y_test, predicted_classes)\n",
    "print(\"ACC: \", acc)\n",
    "print(classification_report(y_test,predicted_classes))\n",
    "\n",
    "# Lịch sử huấn luyện mô hình\n",
    "history_dict = history.history"
   ]
  },
  {
   "cell_type": "markdown",
   "id": "ba62ee29",
   "metadata": {},
   "source": [
    "## Biểu đồ mất mát và biểu đồ độ chính xác trong quá trình huấn luyện mô hình"
   ]
  },
  {
   "cell_type": "code",
   "execution_count": null,
   "id": "60a33b13",
   "metadata": {},
   "outputs": [],
   "source": [
    "# Vẽ biểu đồ mất mát (loss) trong quá trình huấn luyện\n",
    "plt.figure(figsize=(12, 5))\n",
    "\n",
    "plt.subplot(1, 2, 1)\n",
    "plt.plot(history_dict['loss'], label='Training Loss')\n",
    "plt.plot(history_dict['val_loss'], label='Validation Loss')\n",
    "plt.title('Training and Validation Loss')\n",
    "plt.xlabel('Epochs')\n",
    "plt.ylabel('Loss')\n",
    "plt.legend()\n",
    "\n",
    "# Vẽ biểu đồ độ chính xác (accuracy) trong quá trình huấn luyện\n",
    "plt.subplot(1, 2, 2)\n",
    "plt.plot(history_dict['accuracy'], label='Training Accuracy')\n",
    "plt.plot(history_dict['val_accuracy'], label='Validation Accuracy')\n",
    "plt.title('Training and Validation Accuracy')\n",
    "plt.xlabel('Epochs')\n",
    "plt.ylabel('Accuracy')\n",
    "plt.legend()\n",
    "\n",
    "plt.show()"
   ]
  },
  {
   "cell_type": "markdown",
   "id": "622ff9da",
   "metadata": {},
   "source": [
    "## Biểu đồ kết quả dự đoán dựa trên dữ liệu kiểm tra"
   ]
  },
  {
   "cell_type": "code",
   "execution_count": null,
   "id": "9bca9e70",
   "metadata": {},
   "outputs": [],
   "source": [
    "# Dự đoán trên dữ liệu kiểm tra và vẽ biểu đồ kết quả\n",
    "plt.figure(figsize=(6, 4))\n",
    "plt.hist(predicted_classes, bins=np.arange(0, 2) - 0.5, edgecolor='black', alpha=0.7)\n",
    "plt.title('Histogram of Predictions on Test Data')\n",
    "plt.xlabel('Predicted Class')\n",
    "plt.ylabel('Frequency')\n",
    "plt.xticks([0, 1], ['Class 0', 'Class 1'])\n",
    "plt.grid(True)\n",
    "\n",
    "plt.show()"
   ]
  },
  {
   "cell_type": "markdown",
   "id": "50d7cc13",
   "metadata": {},
   "source": [
    "## Kết luận"
   ]
  },
  {
   "cell_type": "markdown",
   "id": "5f8c1730",
   "metadata": {},
   "source": [
    "### Kết quả huấn luyện\n",
    "Accuracy và Loss trong tập huấn luyện và tập kiểm tra: Trong quá trình huấn luyện, độ chính xác (accuracy) trên tập huấn luyện tăng dần từ khoảng 60% lên hơn 85%. Độ chính xác trên tập kiểm tra cũng tăng dần, đạt đến khoảng 82-83%. Loss (mất mát) giảm dần, cho thấy mô hình đang học và cải thiện qua từng epoch.\n",
    "Validation Accuracy và Loss: Độ chính xác trên tập kiểm tra dao động quanh mức 82-83%. Loss trên tập kiểm tra giảm dần, nhưng sau đó có xu hướng ổn định và thậm chí có tăng nhẹ.\n",
    "### Kết quả đánh giá mô hình\n",
    "Accuracy trên tập kiểm tra là 83.71%.\n",
    "Loss trên tập kiểm tra là 0.3748.\n",
    "Validation Accuracy là: 83.09%. \n",
    "Độ chính xác của mô hình trên tập huấn luyện và tập kiểm tra đều cao, cho thấy mô hình học tốt từ dữ liệu và có khả năng tổng quát tốt.\n",
    "Độ chính xác trên tập kiểm tra khá ổn định qua các epoch cuối cùng, điều này cho thấy mô hình không bị overfitting quá nhiều.\n",
    "Loss trên tập kiểm tra có xu hướng ổn định sau một thời gian giảm, điều này cho thấy mô hình đã đạt đến mức tối ưu nhất định."
   ]
  },
  {
   "cell_type": "markdown",
   "id": "0ff8a05c",
   "metadata": {},
   "source": [
    "### So sánh với phương pháp trên\n",
    "Phân tích kết quả của mô hình Deep Learning (ANN) cho bài toán dự đoán khách hàng rời bỏ cho thấy hiệu suất ấn tượng với độ chính xác tổng thể 82.18%. Mô hình này đứng thứ ba trong số các phương pháp đã xem xét, chỉ sau Random Forest và SVC, nhưng vượt trội hơn Logistic Regression và KNN. Đối với lớp đa số (khách hàng ở lại), ANN thể hiện hiệu suất rất tốt với precision 0.92, recall 0.84 và F1-score 0.88, gần như ngang bằng với SVC. Đáng chú ý là hiệu suất của mô hình đối với lớp thiểu số (khách hàng rời bỏ), đạt được recall cao 0.78, cho thấy khả năng tốt trong việc nhận diện khách hàng có nguy cơ rời bỏ. F1-score 0.69 cho lớp này tương đương với SVC và chỉ kém hơn một chút so với Random Forest. Sự cân bằng tốt giữa precision và recall cho cả hai lớp gợi ý rằng AUC-ROC của mô hình có thể khá cao, mặc dù không được cung cấp trực tiếp. So với các phương pháp Machine Learning cổ điển, ANN thể hiện ưu điểm trong việc học các mối quan hệ phi tuyến phức tạp mà không cần nhiều feature engineering. Tuy nhiên, Random Forest vẫn cho kết quả tổng thể tốt hơn một chút, có thể do khả năng xử lý tự nhiên đối với dữ liệu không cân bằng và khả năng chống overfitting. Nhìn chung, mô hình ANN là một lựa chọn rất tốt cho bài toán churn prediction này, cung cấp sự cân bằng hiệu quả giữa khả năng nhận diện khách hàng rời bỏ và độ chính xác của những dự đoán đó."
   ]
  }
 ],
 "metadata": {
  "kernelspec": {
   "display_name": "Python 3 (ipykernel)",
   "language": "python",
   "name": "python3"
  },
  "language_info": {
   "codemirror_mode": {
    "name": "ipython",
    "version": 3
   },
   "file_extension": ".py",
   "mimetype": "text/x-python",
   "name": "python",
   "nbconvert_exporter": "python",
   "pygments_lexer": "ipython3",
   "version": "3.12.4"
  }
 },
 "nbformat": 4,
 "nbformat_minor": 5
}
